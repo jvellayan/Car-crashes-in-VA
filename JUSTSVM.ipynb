{
  "nbformat": 4,
  "nbformat_minor": 0,
  "metadata": {
    "colab": {
      "name": "JUSTSVM.ipynb",
      "provenance": [],
      "collapsed_sections": [],
      "toc_visible": true,
      "machine_shape": "hm",
      "include_colab_link": true
    },
    "kernelspec": {
      "name": "python3",
      "display_name": "Python 3"
    }
  },
  "cells": [
    {
      "cell_type": "markdown",
      "metadata": {
        "id": "view-in-github",
        "colab_type": "text"
      },
      "source": [
        "<a href=\"https://colab.research.google.com/github/jvellayan/Car-crashes-in-VA/blob/main/JUSTSVM.ipynb\" target=\"_parent\"><img src=\"https://colab.research.google.com/assets/colab-badge.svg\" alt=\"Open In Colab\"/></a>"
      ]
    },
    {
      "cell_type": "markdown",
      "metadata": {
        "id": "bmPItHznWSLG"
      },
      "source": [
        "#Data Loading"
      ]
    },
    {
      "cell_type": "code",
      "metadata": {
        "id": "CWbZHEm8sNGf",
        "colab": {
          "base_uri": "https://localhost:8080/",
          "height": 33
        },
        "outputId": "3bd76333-e345-45d6-9849-d3fa5fa112c5"
      },
      "source": [
        "\n",
        "import pandas as pd\n",
        "from google.colab import drive\n",
        "import numpy as np\n",
        "np.random.seed(42)\n",
        "drive.mount('/content/drive')"
      ],
      "execution_count": null,
      "outputs": [
        {
          "output_type": "stream",
          "text": [
            "Drive already mounted at /content/drive; to attempt to forcibly remount, call drive.mount(\"/content/drive\", force_remount=True).\n"
          ],
          "name": "stdout"
        }
      ]
    },
    {
      "cell_type": "code",
      "metadata": {
        "id": "sw356h_HufCn",
        "colab": {
          "base_uri": "https://localhost:8080/",
          "height": 50
        },
        "outputId": "3bcea1ec-5143-40d0-aafa-8065e8dc2bc5"
      },
      "source": [
        "\n",
        "path = \"/content/drive/My Drive/data/Virginia_Crashes.csv\"\n",
        "crash_df = pd.read_csv(path)"
      ],
      "execution_count": null,
      "outputs": [
        {
          "output_type": "stream",
          "text": [
            "/usr/local/lib/python3.6/dist-packages/IPython/core/interactiveshell.py:2718: DtypeWarning: Columns (3,6,7,19,20,30,31,37,41,42,46,57,58,66) have mixed types.Specify dtype option on import or set low_memory=False.\n",
            "  interactivity=interactivity, compiler=compiler, result=result)\n"
          ],
          "name": "stderr"
        }
      ]
    },
    {
      "cell_type": "code",
      "metadata": {
        "id": "n8v-YEqdu0sH",
        "colab": {
          "base_uri": "https://localhost:8080/",
          "height": 33
        },
        "outputId": "19daaa02-6f7e-4455-a97b-62490edf38d0"
      },
      "source": [
        "type(crash_df)"
      ],
      "execution_count": null,
      "outputs": [
        {
          "output_type": "execute_result",
          "data": {
            "text/plain": [
              "pandas.core.frame.DataFrame"
            ]
          },
          "metadata": {
            "tags": []
          },
          "execution_count": 11
        }
      ]
    },
    {
      "cell_type": "markdown",
      "metadata": {
        "id": "S2qrdcu5r2qa"
      },
      "source": [
        "*Inspect the Data*"
      ]
    },
    {
      "cell_type": "code",
      "metadata": {
        "id": "1tuJIDzKlLdq",
        "colab": {
          "base_uri": "https://localhost:8080/",
          "height": 567
        },
        "outputId": "e005826a-6b2f-41c0-e531-ad1906807f9f"
      },
      "source": [
        "crash_df.head(5)"
      ],
      "execution_count": null,
      "outputs": [
        {
          "output_type": "execute_result",
          "data": {
            "text/html": [
              "<div>\n",
              "<style scoped>\n",
              "    .dataframe tbody tr th:only-of-type {\n",
              "        vertical-align: middle;\n",
              "    }\n",
              "\n",
              "    .dataframe tbody tr th {\n",
              "        vertical-align: top;\n",
              "    }\n",
              "\n",
              "    .dataframe thead th {\n",
              "        text-align: right;\n",
              "    }\n",
              "</style>\n",
              "<table border=\"1\" class=\"dataframe\">\n",
              "  <thead>\n",
              "    <tr style=\"text-align: right;\">\n",
              "      <th></th>\n",
              "      <th>X</th>\n",
              "      <th>Y</th>\n",
              "      <th>OBJECTID</th>\n",
              "      <th>Alcohol_Notalcohol</th>\n",
              "      <th>A_Crash</th>\n",
              "      <th>A_People</th>\n",
              "      <th>Belted_Unbelted</th>\n",
              "      <th>Bike_Nonbike</th>\n",
              "      <th>B_Crash</th>\n",
              "      <th>B_People</th>\n",
              "      <th>Carspeedlimit</th>\n",
              "      <th>Collision_Type</th>\n",
              "      <th>Crash_Dt</th>\n",
              "      <th>Crash_Event_Type_Dsc</th>\n",
              "      <th>Crash_Military_Tm</th>\n",
              "      <th>Crash_Severity</th>\n",
              "      <th>Crash_Year</th>\n",
              "      <th>C_Crash</th>\n",
              "      <th>C_People</th>\n",
              "      <th>Deer_Nodeer</th>\n",
              "      <th>Distracted_Notdistracted</th>\n",
              "      <th>Document_Nbr</th>\n",
              "      <th>Driverage</th>\n",
              "      <th>Drivergen</th>\n",
              "      <th>Driverinjurytype</th>\n",
              "      <th>Driver_Action_Type_Cd</th>\n",
              "      <th>FAC</th>\n",
              "      <th>Fatal_Crashes</th>\n",
              "      <th>First_Harmful_Event</th>\n",
              "      <th>FUN</th>\n",
              "      <th>Gr_Nogr</th>\n",
              "      <th>Hitrun_Not_Hitrun</th>\n",
              "      <th>K_People</th>\n",
              "      <th>LATITUDE</th>\n",
              "      <th>Light_Condition</th>\n",
              "      <th>Local_Case_Cd</th>\n",
              "      <th>LONGITUDE</th>\n",
              "      <th>Motor_Nonmotor</th>\n",
              "      <th>MPO_NAME</th>\n",
              "      <th>Ownership</th>\n",
              "      <th>Passage</th>\n",
              "      <th>Passgen</th>\n",
              "      <th>Passinjurytype</th>\n",
              "      <th>Pdo_Crash</th>\n",
              "      <th>Pedage</th>\n",
              "      <th>Pedestrians_Injured</th>\n",
              "      <th>Pedinjurytype</th>\n",
              "      <th>Ped_Nonped</th>\n",
              "      <th>Persons_Injured</th>\n",
              "      <th>Rd_Type</th>\n",
              "      <th>Rns_Mp</th>\n",
              "      <th>Roadway_Alignment</th>\n",
              "      <th>Roadway_Surface_Cond</th>\n",
              "      <th>Route_Or_Street_Nm</th>\n",
              "      <th>Rte_Cat</th>\n",
              "      <th>Rte_Nm</th>\n",
              "      <th>School_Zone</th>\n",
              "      <th>Senior_Notsenior</th>\n",
              "      <th>Speed_Notspeed</th>\n",
              "      <th>Summons_Issued_Cd</th>\n",
              "      <th>SYSTEM</th>\n",
              "      <th>Vehiclenumber</th>\n",
              "      <th>Vehicle_Body_Type_Cd</th>\n",
              "      <th>VSP</th>\n",
              "      <th>Weather_Condition</th>\n",
              "      <th>Work_Zone_Related</th>\n",
              "      <th>Young_Notyoung</th>\n",
              "      <th>Vdot_District</th>\n",
              "      <th>PDCNAME</th>\n",
              "      <th>DIAGRAM</th>\n",
              "      <th>Physical_Juris</th>\n",
              "    </tr>\n",
              "  </thead>\n",
              "  <tbody>\n",
              "    <tr>\n",
              "      <th>0</th>\n",
              "      <td>-79.967048</td>\n",
              "      <td>37.129694</td>\n",
              "      <td>4001</td>\n",
              "      <td>NaN</td>\n",
              "      <td>0</td>\n",
              "      <td>0</td>\n",
              "      <td>NaN</td>\n",
              "      <td>NaN</td>\n",
              "      <td>0</td>\n",
              "      <td>0</td>\n",
              "      <td>NaN</td>\n",
              "      <td>2. Angle</td>\n",
              "      <td>2018-12-22T00:00:00.000Z</td>\n",
              "      <td>20. Motor Vehicle In Transport</td>\n",
              "      <td>1547</td>\n",
              "      <td>PDO.Property Damage Only</td>\n",
              "      <td>2018</td>\n",
              "      <td>0</td>\n",
              "      <td>0</td>\n",
              "      <td>NaN</td>\n",
              "      <td>NaN</td>\n",
              "      <td>183605178</td>\n",
              "      <td>57,52</td>\n",
              "      <td>Female,Male</td>\n",
              "      <td>PDO,PDO</td>\n",
              "      <td>16. Improper Turn From Wrong Lane,1. No Improp...</td>\n",
              "      <td>1.Divided, no control of access</td>\n",
              "      <td>0</td>\n",
              "      <td>1. On Roadway</td>\n",
              "      <td>2.Rural Other Principal Arterial</td>\n",
              "      <td>NaN</td>\n",
              "      <td>NaN</td>\n",
              "      <td>0</td>\n",
              "      <td>37.129686</td>\n",
              "      <td>2. Daylight</td>\n",
              "      <td>2018-094097</td>\n",
              "      <td>-79.967045</td>\n",
              "      <td>NaN</td>\n",
              "      <td>NaN</td>\n",
              "      <td>VDOT_PRI</td>\n",
              "      <td>NaN</td>\n",
              "      <td>NaN</td>\n",
              "      <td>NaN</td>\n",
              "      <td>1</td>\n",
              "      <td>NaN</td>\n",
              "      <td>0</td>\n",
              "      <td>NaN</td>\n",
              "      <td>NOTPED</td>\n",
              "      <td>0</td>\n",
              "      <td>NOT-RD</td>\n",
              "      <td>51.072294</td>\n",
              "      <td>1. Straight - Level</td>\n",
              "      <td>1. Dry</td>\n",
              "      <td>26472 Virgil H Goode Hwy</td>\n",
              "      <td>US</td>\n",
              "      <td>R-VA   US00220NB</td>\n",
              "      <td>3. No</td>\n",
              "      <td>NaN</td>\n",
              "      <td>NaN</td>\n",
              "      <td>1. Yes,2. No</td>\n",
              "      <td>PRIMARY</td>\n",
              "      <td>1,2</td>\n",
              "      <td>3. Van,3. Van</td>\n",
              "      <td>6</td>\n",
              "      <td>1. No Adverse Condition (Clear/Cloudy)</td>\n",
              "      <td>2. No</td>\n",
              "      <td>NaN</td>\n",
              "      <td>2.Salem District</td>\n",
              "      <td>Roanoke Valley-Alleghany, West Piedmont</td>\n",
              "      <td>http://rns/APP/Images/CrashDiagramProxy.aspx?d...</td>\n",
              "      <td>33.Franklin</td>\n",
              "    </tr>\n",
              "    <tr>\n",
              "      <th>1</th>\n",
              "      <td>-79.342818</td>\n",
              "      <td>37.301027</td>\n",
              "      <td>4002</td>\n",
              "      <td>NaN</td>\n",
              "      <td>0</td>\n",
              "      <td>0</td>\n",
              "      <td>NaN</td>\n",
              "      <td>NaN</td>\n",
              "      <td>0</td>\n",
              "      <td>0</td>\n",
              "      <td>60.0</td>\n",
              "      <td>4. Sideswipe - Same Direction</td>\n",
              "      <td>2018-09-01T00:00:00.000Z</td>\n",
              "      <td>20. Motor Vehicle In Transport</td>\n",
              "      <td>1635</td>\n",
              "      <td>PDO.Property Damage Only</td>\n",
              "      <td>2018</td>\n",
              "      <td>0</td>\n",
              "      <td>0</td>\n",
              "      <td>NaN</td>\n",
              "      <td>NaN</td>\n",
              "      <td>182485223</td>\n",
              "      <td>51,29</td>\n",
              "      <td>Male,Male</td>\n",
              "      <td>PDO,PDO</td>\n",
              "      <td>14. Improper Turn - Wide Right Turn,1. No Impr...</td>\n",
              "      <td>1.Divided, no control of access</td>\n",
              "      <td>0</td>\n",
              "      <td>1. On Roadway</td>\n",
              "      <td>2.Rural Other Principal Arterial</td>\n",
              "      <td>NaN</td>\n",
              "      <td>NaN</td>\n",
              "      <td>0</td>\n",
              "      <td>37.301020</td>\n",
              "      <td>2. Daylight</td>\n",
              "      <td>201819137</td>\n",
              "      <td>-79.342815</td>\n",
              "      <td>NaN</td>\n",
              "      <td>Central Virginia Metropolitan Planning Organiz...</td>\n",
              "      <td>VDOT_PRI</td>\n",
              "      <td>NaN</td>\n",
              "      <td>NaN</td>\n",
              "      <td>NaN</td>\n",
              "      <td>1</td>\n",
              "      <td>NaN</td>\n",
              "      <td>0</td>\n",
              "      <td>NaN</td>\n",
              "      <td>NOTPED</td>\n",
              "      <td>0</td>\n",
              "      <td>NOT-RD</td>\n",
              "      <td>193.905648</td>\n",
              "      <td>1. Straight - Level</td>\n",
              "      <td>1. Dry</td>\n",
              "      <td>460/E LYN SALEM TURNPIKE</td>\n",
              "      <td>US</td>\n",
              "      <td>R-VA   US00460WB</td>\n",
              "      <td>3. No</td>\n",
              "      <td>NaN</td>\n",
              "      <td>NaN</td>\n",
              "      <td>2. No,2. No</td>\n",
              "      <td>PRIMARY</td>\n",
              "      <td>1,2</td>\n",
              "      <td>2. Truck - Pick-up/Passenger Truck,1. Passenge...</td>\n",
              "      <td>6</td>\n",
              "      <td>1. No Adverse Condition (Clear/Cloudy)</td>\n",
              "      <td>2. No</td>\n",
              "      <td>NaN</td>\n",
              "      <td>2.Salem District</td>\n",
              "      <td>Region 2000 Regional</td>\n",
              "      <td>http://rns/APP/Images/CrashDiagramProxy.aspx?d...</td>\n",
              "      <td>9.Bedford</td>\n",
              "    </tr>\n",
              "    <tr>\n",
              "      <th>2</th>\n",
              "      <td>-79.497418</td>\n",
              "      <td>37.323679</td>\n",
              "      <td>4003</td>\n",
              "      <td>NaN</td>\n",
              "      <td>0</td>\n",
              "      <td>0</td>\n",
              "      <td>NaN</td>\n",
              "      <td>NaN</td>\n",
              "      <td>0</td>\n",
              "      <td>0</td>\n",
              "      <td>50.0</td>\n",
              "      <td>1. Rear End</td>\n",
              "      <td>2015-04-25T00:00:00.000Z</td>\n",
              "      <td>20. Motor Vehicle In Transport</td>\n",
              "      <td>2119</td>\n",
              "      <td>PDO.Property Damage Only</td>\n",
              "      <td>2015</td>\n",
              "      <td>0</td>\n",
              "      <td>0</td>\n",
              "      <td>NaN</td>\n",
              "      <td>NaN</td>\n",
              "      <td>151165237</td>\n",
              "      <td>22,45</td>\n",
              "      <td>Female,Female</td>\n",
              "      <td>PDO,PDO</td>\n",
              "      <td>37. Other,1. No Improper Action</td>\n",
              "      <td>1.Divided, no control of access</td>\n",
              "      <td>0</td>\n",
              "      <td>1. On Roadway</td>\n",
              "      <td>E.Urban Other Principal Arterials; Connecting ...</td>\n",
              "      <td>NaN</td>\n",
              "      <td>NaN</td>\n",
              "      <td>0</td>\n",
              "      <td>37.323671</td>\n",
              "      <td>4. Darkness - Road Lighted</td>\n",
              "      <td>2015002033</td>\n",
              "      <td>-79.497415</td>\n",
              "      <td>NaN</td>\n",
              "      <td>NaN</td>\n",
              "      <td>VDOT_PRI</td>\n",
              "      <td>NaN</td>\n",
              "      <td>NaN</td>\n",
              "      <td>NaN</td>\n",
              "      <td>1</td>\n",
              "      <td>NaN</td>\n",
              "      <td>0</td>\n",
              "      <td>NaN</td>\n",
              "      <td>NOTPED</td>\n",
              "      <td>0</td>\n",
              "      <td>NOT-RD</td>\n",
              "      <td>184.677109</td>\n",
              "      <td>1. Straight - Level</td>\n",
              "      <td>2. Wet</td>\n",
              "      <td>E LYNCHBURG SALEM TPKE</td>\n",
              "      <td>US</td>\n",
              "      <td>R-VA   US00460EB</td>\n",
              "      <td>3. No</td>\n",
              "      <td>NaN</td>\n",
              "      <td>NaN</td>\n",
              "      <td>1. Yes,2. No</td>\n",
              "      <td>PRIMARY</td>\n",
              "      <td>1,2</td>\n",
              "      <td>1. Passenger car,22. Truck - Sport Utility Veh...</td>\n",
              "      <td>6</td>\n",
              "      <td>5. Rain</td>\n",
              "      <td>2. No</td>\n",
              "      <td>NaN</td>\n",
              "      <td>2.Salem District</td>\n",
              "      <td>Region 2000 Regional</td>\n",
              "      <td>http://rns/APP/Images/CrashDiagramProxy.aspx?d...</td>\n",
              "      <td>141.Bedford</td>\n",
              "    </tr>\n",
              "    <tr>\n",
              "      <th>3</th>\n",
              "      <td>-79.917538</td>\n",
              "      <td>37.078088</td>\n",
              "      <td>4004</td>\n",
              "      <td>NaN</td>\n",
              "      <td>0</td>\n",
              "      <td>0</td>\n",
              "      <td>NaN</td>\n",
              "      <td>NaN</td>\n",
              "      <td>0</td>\n",
              "      <td>0</td>\n",
              "      <td>55.0</td>\n",
              "      <td>4. Sideswipe - Same Direction</td>\n",
              "      <td>2019-11-24T00:00:00.000Z</td>\n",
              "      <td>20. Motor Vehicle In Transport</td>\n",
              "      <td>1915</td>\n",
              "      <td>PDO.Property Damage Only</td>\n",
              "      <td>2019</td>\n",
              "      <td>0</td>\n",
              "      <td>0</td>\n",
              "      <td>NaN</td>\n",
              "      <td>NaN</td>\n",
              "      <td>193305263</td>\n",
              "      <td>44,21</td>\n",
              "      <td>Male,Male</td>\n",
              "      <td>PDO,PDO</td>\n",
              "      <td>42. Improper or Unsafe Lane Change,1. No Impro...</td>\n",
              "      <td>1.Divided, no control of access</td>\n",
              "      <td>0</td>\n",
              "      <td>1. On Roadway</td>\n",
              "      <td>E.Urban Other Principal Arterials; Connecting ...</td>\n",
              "      <td>NaN</td>\n",
              "      <td>NaN</td>\n",
              "      <td>0</td>\n",
              "      <td>37.078081</td>\n",
              "      <td>5. Darkness - Road Not Lighted</td>\n",
              "      <td>DIV619106121</td>\n",
              "      <td>-79.917535</td>\n",
              "      <td>NaN</td>\n",
              "      <td>NaN</td>\n",
              "      <td>VDOT_PRI</td>\n",
              "      <td>NaN</td>\n",
              "      <td>NaN</td>\n",
              "      <td>NaN</td>\n",
              "      <td>1</td>\n",
              "      <td>NaN</td>\n",
              "      <td>0</td>\n",
              "      <td>NaN</td>\n",
              "      <td>NOTPED</td>\n",
              "      <td>0</td>\n",
              "      <td>NOT-RD</td>\n",
              "      <td>46.289636</td>\n",
              "      <td>3. Grade - Straight</td>\n",
              "      <td>1. Dry</td>\n",
              "      <td>VIRGIL H. GOODE HIGHWAY (US 220)</td>\n",
              "      <td>US</td>\n",
              "      <td>R-VA   US00220NB</td>\n",
              "      <td>3. No</td>\n",
              "      <td>NaN</td>\n",
              "      <td>NaN</td>\n",
              "      <td>1. Yes,2. No</td>\n",
              "      <td>PRIMARY</td>\n",
              "      <td>1,2</td>\n",
              "      <td>2. Truck - Pick-up/Passenger Truck,1. Passenge...</td>\n",
              "      <td>6</td>\n",
              "      <td>1. No Adverse Condition (Clear/Cloudy)</td>\n",
              "      <td>2. No</td>\n",
              "      <td>NaN</td>\n",
              "      <td>2.Salem District</td>\n",
              "      <td>Roanoke Valley-Alleghany, West Piedmont</td>\n",
              "      <td>http://rns/APP/Images/CrashDiagramProxy.aspx?d...</td>\n",
              "      <td>33.Franklin</td>\n",
              "    </tr>\n",
              "    <tr>\n",
              "      <th>4</th>\n",
              "      <td>-79.425620</td>\n",
              "      <td>37.319334</td>\n",
              "      <td>4005</td>\n",
              "      <td>NaN</td>\n",
              "      <td>0</td>\n",
              "      <td>0</td>\n",
              "      <td>NaN</td>\n",
              "      <td>NaN</td>\n",
              "      <td>0</td>\n",
              "      <td>0</td>\n",
              "      <td>60.0</td>\n",
              "      <td>2. Angle</td>\n",
              "      <td>2019-12-12T00:00:00.000Z</td>\n",
              "      <td>20. Motor Vehicle In Transport</td>\n",
              "      <td>812</td>\n",
              "      <td>PDO.Property Damage Only</td>\n",
              "      <td>2019</td>\n",
              "      <td>0</td>\n",
              "      <td>0</td>\n",
              "      <td>NaN</td>\n",
              "      <td>NaN</td>\n",
              "      <td>193475073</td>\n",
              "      <td>41,36</td>\n",
              "      <td>Male,Female</td>\n",
              "      <td>PDO,PDO</td>\n",
              "      <td>42. Improper or Unsafe Lane Change,1. No Impro...</td>\n",
              "      <td>1.Divided, no control of access</td>\n",
              "      <td>0</td>\n",
              "      <td>1. On Roadway</td>\n",
              "      <td>2.Rural Other Principal Arterial</td>\n",
              "      <td>NaN</td>\n",
              "      <td>NaN</td>\n",
              "      <td>0</td>\n",
              "      <td>37.319326</td>\n",
              "      <td>2. Daylight</td>\n",
              "      <td>DIV619112175</td>\n",
              "      <td>-79.425617</td>\n",
              "      <td>NaN</td>\n",
              "      <td>NaN</td>\n",
              "      <td>VDOT_PRI</td>\n",
              "      <td>NaN</td>\n",
              "      <td>NaN</td>\n",
              "      <td>NaN</td>\n",
              "      <td>1</td>\n",
              "      <td>NaN</td>\n",
              "      <td>0</td>\n",
              "      <td>NaN</td>\n",
              "      <td>NOTPED</td>\n",
              "      <td>0</td>\n",
              "      <td>NOT-RD</td>\n",
              "      <td>188.998555</td>\n",
              "      <td>2. Curve - Level</td>\n",
              "      <td>1. Dry</td>\n",
              "      <td>RT 460</td>\n",
              "      <td>US</td>\n",
              "      <td>R-VA   US00460EB</td>\n",
              "      <td>3. No</td>\n",
              "      <td>NaN</td>\n",
              "      <td>NaN</td>\n",
              "      <td>1. Yes,2. No</td>\n",
              "      <td>PRIMARY</td>\n",
              "      <td>1,2</td>\n",
              "      <td>2. Truck - Pick-up/Passenger Truck,22. Truck -...</td>\n",
              "      <td>6</td>\n",
              "      <td>1. No Adverse Condition (Clear/Cloudy)</td>\n",
              "      <td>2. No</td>\n",
              "      <td>NaN</td>\n",
              "      <td>2.Salem District</td>\n",
              "      <td>Region 2000 Regional</td>\n",
              "      <td>http://rns/APP/Images/CrashDiagramProxy.aspx?d...</td>\n",
              "      <td>9.Bedford</td>\n",
              "    </tr>\n",
              "  </tbody>\n",
              "</table>\n",
              "</div>"
            ],
            "text/plain": [
              "           X  ...  Physical_Juris\n",
              "0 -79.967048  ...     33.Franklin\n",
              "1 -79.342818  ...       9.Bedford\n",
              "2 -79.497418  ...     141.Bedford\n",
              "3 -79.917538  ...     33.Franklin\n",
              "4 -79.425620  ...       9.Bedford\n",
              "\n",
              "[5 rows x 71 columns]"
            ]
          },
          "metadata": {
            "tags": []
          },
          "execution_count": 12
        }
      ]
    },
    {
      "cell_type": "code",
      "metadata": {
        "id": "vN5sNIl8mwTF"
      },
      "source": [
        "crash_df = crash_df.drop(['X','Y', 'OBJECTID', 'Crash_Event_Type_Dsc','Young_Notyoung','Senior_Notsenior', 'Crash_Year', 'Crash_Dt','Document_Nbr', 'Driverinjurytype','Gr_Nogr', 'Local_Case_Cd', 'MPO_NAME','Ownership', 'Passgen', 'Passinjurytype', 'Pedinjurytype', 'Ped_Nonped','Rns_Mp','Route_Or_Street_Nm','Rte_Cat', 'Rd_Type','Rte_Nm','Summons_Issued_Cd','SYSTEM','Vehiclenumber','VSP', 'Vdot_District', 'PDCNAME','DIAGRAM','Physical_Juris'], axis=1)"
      ],
      "execution_count": null,
      "outputs": []
    },
    {
      "cell_type": "markdown",
      "metadata": {
        "id": "6oFOVquH5oqt"
      },
      "source": [
        "# Data Cleaning"
      ]
    },
    {
      "cell_type": "markdown",
      "metadata": {
        "id": "L2n936ZtmBtS"
      },
      "source": [
        "Now that we have reduced our dataset to nonrepetive and relevant features, we must address the missingness in our data. Many binary features have NaN instead of zeros. These binary features are named \"Alcohol_notAlcohol\", \"Belted_Unbelted\", \"Bike_Nonbike\", \"Deer_Nodeer\", \"Distracted_Notdistracted\", \"Motor_Nonmotor\", \"Senior_Notsenior\", \"Speed_Notspeed\", \"Young_Notyoung\", and \"Hitrun_Not_Hitrun\". These features are only filled out when their flag occured; otherwise, they are left blank and appear as NaN in our data. We replaced all of the NaN in the binary features with 0 and changed their flag from a string to 1."
      ]
    },
    {
      "cell_type": "code",
      "metadata": {
        "id": "oXCIzTRtoPt6"
      },
      "source": [
        "#Replace the flag for these columns with a 1\n",
        "crash_df['Alcohol_Notalcohol'] = crash_df['Alcohol_Notalcohol'].replace('ALCOHOL', 1) #1 indicates alcohol \n",
        "crash_df['Belted_Unbelted'] = crash_df['Belted_Unbelted'].replace('UNBELTED', 1) #1 indicates unbelted\n",
        "crash_df['Bike_Nonbike'] = crash_df['Bike_Nonbike'].replace('BIKE', 1) #1 indicates bike\n",
        "crash_df['Deer_Nodeer'] = crash_df['Deer_Nodeer'].replace('DEER', 1) #1 indicates deer\n",
        "crash_df['Distracted_Notdistracted'] = crash_df['Distracted_Notdistracted'].replace('DISTRACTED', 1) #1 indicates distracted\n",
        "crash_df['Motor_Nonmotor'] = crash_df['Motor_Nonmotor'].replace('MOTOR', 1) #1 indicates motor\n",
        "crash_df['Speed_Notspeed'] = crash_df['Speed_Notspeed'].replace('SPEED', 1) #1 indicates speeding\n",
        "crash_df['Hitrun_Not_Hitrun'] = crash_df['Hitrun_Not_Hitrun'].replace('HIT_RUN', 1) #1 indicates hit and run"
      ],
      "execution_count": null,
      "outputs": []
    },
    {
      "cell_type": "code",
      "metadata": {
        "id": "r1ngmgYstDXf"
      },
      "source": [
        "#Replace the NaN values for these columns with a 0\n",
        "crash_df['Alcohol_Notalcohol'] = crash_df['Alcohol_Notalcohol'].fillna(0)\n",
        "crash_df['Belted_Unbelted'] = crash_df['Belted_Unbelted'].fillna(0)\n",
        "crash_df['Bike_Nonbike'] = crash_df['Bike_Nonbike'].fillna(0)\n",
        "crash_df['Deer_Nodeer'] = crash_df['Deer_Nodeer'].fillna(0)\n",
        "crash_df['Distracted_Notdistracted'] = crash_df['Distracted_Notdistracted'].fillna(0)\n",
        "crash_df['Motor_Nonmotor'] = crash_df['Motor_Nonmotor'].fillna(0)\n",
        "crash_df['Speed_Notspeed'] = crash_df['Speed_Notspeed'].fillna(0)\n",
        "crash_df['Hitrun_Not_Hitrun'] = crash_df['Hitrun_Not_Hitrun'].fillna(0)"
      ],
      "execution_count": null,
      "outputs": []
    },
    {
      "cell_type": "markdown",
      "metadata": {
        "id": "DVOVavCs2rUo"
      },
      "source": [
        "While the feature \"Work_Zone_Related\" does not have missingness, it is a binary represented with \"Yes\" and \"No\". We will recode that as 1 for \"Yes\" and 0 for \"No\"."
      ]
    },
    {
      "cell_type": "code",
      "metadata": {
        "id": "NDC5Ny6aox_s"
      },
      "source": [
        "crash_df['Carspeedlimit'] = crash_df['Carspeedlimit'].fillna(crash_df['Carspeedlimit'].median())"
      ],
      "execution_count": null,
      "outputs": []
    },
    {
      "cell_type": "code",
      "metadata": {
        "id": "3E5o7cjs21rW",
        "colab": {
          "base_uri": "https://localhost:8080/",
          "height": 83
        },
        "outputId": "5ecb4ecd-065e-45f9-da19-24606467ce1e"
      },
      "source": [
        "crash_df.groupby('Work_Zone_Related').size()"
      ],
      "execution_count": null,
      "outputs": [
        {
          "output_type": "execute_result",
          "data": {
            "text/plain": [
              "Work_Zone_Related\n",
              "1. Yes     21592\n",
              "2. No     862414\n",
              "dtype: int64"
            ]
          },
          "metadata": {
            "tags": []
          },
          "execution_count": 17
        }
      ]
    },
    {
      "cell_type": "code",
      "metadata": {
        "id": "8F54Xk0E22od"
      },
      "source": [
        "crash_df['Work_Zone_Related'] = crash_df['Work_Zone_Related'].replace('1. Yes', 1) \n",
        "crash_df['Work_Zone_Related'] = crash_df['Work_Zone_Related'].replace('2. No', 0) "
      ],
      "execution_count": null,
      "outputs": []
    },
    {
      "cell_type": "markdown",
      "metadata": {
        "id": "0CRBn74u2-qC"
      },
      "source": [
        "Additionally, the feature \"School_Zone\" can be turned into a binary with 1 for \"Yes\" and 0 for \"No\"."
      ]
    },
    {
      "cell_type": "code",
      "metadata": {
        "id": "i1keKOQC3Iwr",
        "colab": {
          "base_uri": "https://localhost:8080/",
          "height": 100
        },
        "outputId": "f5be2940-2cb1-453c-956c-1bb94b5483c8"
      },
      "source": [
        "crash_df.groupby('School_Zone').size()"
      ],
      "execution_count": null,
      "outputs": [
        {
          "output_type": "execute_result",
          "data": {
            "text/plain": [
              "School_Zone\n",
              "1. Yes                             9489\n",
              "2. Yes - With School Activity      3483\n",
              "3. No                            871034\n",
              "dtype: int64"
            ]
          },
          "metadata": {
            "tags": []
          },
          "execution_count": 19
        }
      ]
    },
    {
      "cell_type": "code",
      "metadata": {
        "id": "UfOLiWC73MPp"
      },
      "source": [
        "crash_df['School_Zone'] = crash_df['School_Zone'].replace('1. Yes', 1) \n",
        "crash_df['School_Zone'] = crash_df['School_Zone'].replace('2. Yes - With School Activity', 1) \n",
        "crash_df['School_Zone'] = crash_df['School_Zone'].replace('3. No', 0) "
      ],
      "execution_count": null,
      "outputs": []
    },
    {
      "cell_type": "markdown",
      "metadata": {
        "id": "zd-d6N6KzFzk"
      },
      "source": [
        "Additionally, \"Passage\" and \"Pedage\" only have values indicating the age of a passenger or a pedestrian if there was one. We will recode these columns to contain an age if there was a passenger or pedestrian and to have 0 if there was not one."
      ]
    },
    {
      "cell_type": "code",
      "metadata": {
        "id": "VdvlazvzzUGn"
      },
      "source": [
        "crash_df['Passage'] = crash_df['Passage'].fillna(-1)\n",
        "crash_df['Pedage'] = crash_df['Pedage'].fillna(-1)"
      ],
      "execution_count": null,
      "outputs": []
    },
    {
      "cell_type": "markdown",
      "metadata": {
        "id": "wYM4lnuupDci"
      },
      "source": [
        "469,353 of 884,006 instances have a speed limit. We will use median imputation to provide data for the instance without a speed limit."
      ]
    },
    {
      "cell_type": "markdown",
      "metadata": {
        "id": "XkJDhzZtqYrP"
      },
      "source": [
        "FAC is also missing values. 784,674 of the 884,006 instances have values. It is a categorical feature, making imputation difficult. The same instance missing the feature \"FAC\" are also missing the feature \"FUN\". We will drop those instances, since they are missing both features and they only make up about 11% of the dataset. If our dataset were not so large, we would not do this."
      ]
    },
    {
      "cell_type": "code",
      "metadata": {
        "id": "xcy5vg_-45Es"
      },
      "source": [
        "crash_df = crash_df.dropna(subset=['FAC'])"
      ],
      "execution_count": null,
      "outputs": []
    },
    {
      "cell_type": "markdown",
      "metadata": {
        "id": "Q4b5X9xj5oVo"
      },
      "source": [
        "In the previous dataframe, some \"LATITUDE\" and \"LONGITUDE\" values were missing. All of the instances that were missing \"FAC\" and \"FUN\" were also missing \"LATITUDE\" and \"LONGITUDE\". Dropping those instances leads to no missing values in \"FAC\", \"FUN\", \"LATITUDE\", or \"LONGITUDE\". Now the only column with missing values is \"Driverage\""
      ]
    },
    {
      "cell_type": "markdown",
      "metadata": {
        "id": "YfW1nhmemzqu"
      },
      "source": [
        "*Features that still need work:*\n",
        "*   DriverAge - break into categories number of drivers in each range, numerical features (DONE)\n",
        "*   DriverGen - break into features number in each (DONE)\n",
        "*   Driver_Action_Type_Cd - break into features number of each action (DONE)\n",
        "*   Vehicle_Body_Type - break into features of number of each vehicle involved (DONE)"
      ]
    },
    {
      "cell_type": "markdown",
      "metadata": {
        "id": "jykHR3FtCqrv"
      },
      "source": [
        "*Driverage*"
      ]
    },
    {
      "cell_type": "code",
      "metadata": {
        "id": "GfgG-JT8CYFd",
        "colab": {
          "base_uri": "https://localhost:8080/",
          "height": 216
        },
        "outputId": "ffbf080d-735b-493c-9743-10dacb1eced6"
      },
      "source": [
        "crash_df[\"Driverage\"].value_counts()"
      ],
      "execution_count": null,
      "outputs": [
        {
          "output_type": "execute_result",
          "data": {
            "text/plain": [
              "19             9948\n",
              "21             9664\n",
              "22             9572\n",
              "20             9292\n",
              "18             9159\n",
              "               ... \n",
              "75,18,50          1\n",
              "36,48,26          1\n",
              "25,41,30,48       1\n",
              "25,20,64          1\n",
              "59,48,20          1\n",
              "Name: Driverage, Length: 70858, dtype: int64"
            ]
          },
          "metadata": {
            "tags": []
          },
          "execution_count": 23
        }
      ]
    },
    {
      "cell_type": "code",
      "metadata": {
        "id": "9DRPKB9BDAMi"
      },
      "source": [
        "# first drop the instances where the driver age its null\n",
        "crash_df = crash_df.dropna(subset=['Driverage']) #will drop ~9,000 values which is about 1%\n",
        "#still 775,095 instances which is huge"
      ],
      "execution_count": null,
      "outputs": []
    },
    {
      "cell_type": "code",
      "metadata": {
        "id": "s98Bw7DdCura",
        "colab": {
          "base_uri": "https://localhost:8080/",
          "height": 33
        },
        "outputId": "54df1f2c-090d-4252-8163-76e7cf4ac10b"
      },
      "source": [
        "driverages = crash_df[\"Driverage\"]\n",
        "#now there are no null values\n",
        "driverages.isna().sum()\n"
      ],
      "execution_count": null,
      "outputs": [
        {
          "output_type": "execute_result",
          "data": {
            "text/plain": [
              "0"
            ]
          },
          "metadata": {
            "tags": []
          },
          "execution_count": 25
        }
      ]
    },
    {
      "cell_type": "code",
      "metadata": {
        "id": "410irRcQEaYc"
      },
      "source": [
        "da_list = driverages.to_list() #probably a better way to do this but whatever\n",
        "n = len(da_list)\n",
        "#initialize list indices to 0 for different age groups\n",
        "youngList = [0]*n #ages 15 to 25\n",
        "midYoung = [0]*n #ages 25 to 40\n",
        "mid= [0]*n #ages 40-60\n",
        "midOld = [0]*n #ages 60-75\n",
        "old =[0]*n #ages 75+\n",
        "for i in range(len(da_list)):\n",
        "  string = da_list[i]\n",
        "  #split the string into a list containing the ages as strings\n",
        "  subList = string.split(',')\n",
        "\n",
        "  #each age in the sublist check which range it falls into and increment the index of that ranges element there\n",
        "  for num in subList:\n",
        "    if (15 <= int(num) and int(num)< 25):\n",
        "      youngList[i]+= 1\n",
        "    elif (25 <= int(num) and int(num)< 40):\n",
        "      midYoung[i] +=1\n",
        "    elif (40 <= int(num) and int(num)< 60):\n",
        "      mid[i] +=1 \n",
        "    elif (60 <= int(num) and int(num)< 75):\n",
        "      midOld[i] +=1\n",
        "    elif (75 <= int(num)):\n",
        "      old[i] +=1\n",
        "    else:\n",
        "      break\n"
      ],
      "execution_count": null,
      "outputs": []
    },
    {
      "cell_type": "code",
      "metadata": {
        "id": "4b78qNMhP0Ps",
        "colab": {
          "base_uri": "https://localhost:8080/",
          "height": 83
        },
        "outputId": "a977924f-1533-4185-b162-c15efd2d5abd"
      },
      "source": [
        "print(youngList[:15])\n",
        "print(midYoung[:15])\n",
        "print(mid[:15])\n",
        "print(da_list[:15])\n",
        "#seems to be working"
      ],
      "execution_count": null,
      "outputs": [
        {
          "output_type": "stream",
          "text": [
            "[0, 0, 1, 1, 0, 0, 0, 1, 1, 0, 0, 0, 1, 1, 0]\n",
            "[0, 1, 0, 0, 1, 1, 1, 0, 1, 1, 1, 0, 0, 0, 1]\n",
            "[2, 1, 1, 1, 1, 1, 1, 1, 0, 1, 1, 2, 1, 0, 1]\n",
            "['57,52', '51,29', '22,45', '44,21', '41,36', '53,37', '30,59', '23,44', '28,23', '30,57', '54,26', '40,41', '22,54', '22,62', '53,38']\n"
          ],
          "name": "stdout"
        }
      ]
    },
    {
      "cell_type": "code",
      "metadata": {
        "id": "U-7I7bm2SCuB"
      },
      "source": [
        "#add these columns to the dataframe\n",
        "crash_df['drAge_young'] = youngList\n",
        "crash_df['drAge_midyoung'] = midYoung\n",
        "crash_df['drAge_mid'] = mid\n",
        "crash_df['drAge_midold'] = midOld\n",
        "crash_df['drAge_old'] = old"
      ],
      "execution_count": null,
      "outputs": []
    },
    {
      "cell_type": "code",
      "metadata": {
        "id": "LpKEahPkg1yi"
      },
      "source": [
        "#now that I've dealt with it and have condensed these other features I can drop the original\n",
        "crash_df = crash_df.drop(['Driverage'], axis=1)"
      ],
      "execution_count": null,
      "outputs": []
    },
    {
      "cell_type": "markdown",
      "metadata": {
        "id": "9m-9_IpljfuB"
      },
      "source": [
        "DriverGen - driver gender"
      ]
    },
    {
      "cell_type": "code",
      "metadata": {
        "id": "QkbQyjbpjz3L"
      },
      "source": [
        "drivergens = crash_df[\"Drivergen\"]\n",
        "dg_list = drivergens.to_list() #probably a better way to do this but whatever\n",
        "n = len(dg_list)\n",
        "#initialize list indices to 0 for different age groups\n",
        "malesInvolved = [0]*n \n",
        "femalesInvolved = [0]*n \n",
        "notProvided= [0]*n \n",
        "for i in range(len(dg_list)):\n",
        "  string = dg_list[i]\n",
        "  #print(string)\n",
        "  #split the string into a list containing the ages as strings\n",
        "  subList = string.split(',')\n",
        "\n",
        "  #each age in the sublist check which range it falls into and increment the index of that ranges element there\n",
        "  for person in subList:\n",
        "    if (person == 'Male'):\n",
        "      malesInvolved[i]+= 1\n",
        "    elif (person == 'Female'):\n",
        "      femalesInvolved[i] +=1\n",
        "    else:\n",
        "      notProvided[i]+=1"
      ],
      "execution_count": null,
      "outputs": []
    },
    {
      "cell_type": "code",
      "metadata": {
        "id": "Hnyd_HLRmmE0",
        "colab": {
          "base_uri": "https://localhost:8080/",
          "height": 83
        },
        "outputId": "26fc5dcd-d34d-4e09-df9d-71fd6819d4ea"
      },
      "source": [
        "print(malesInvolved[:15])\n",
        "print(femalesInvolved[:15])\n",
        "print(notProvided[:15])\n",
        "print(dg_list[:15])\n",
        "#seems to be working"
      ],
      "execution_count": null,
      "outputs": [
        {
          "output_type": "stream",
          "text": [
            "[1, 2, 0, 2, 1, 0, 1, 1, 1, 1, 2, 1, 1, 2, 2]\n",
            "[1, 0, 2, 0, 1, 2, 1, 1, 1, 1, 0, 1, 1, 0, 0]\n",
            "[0, 0, 0, 0, 0, 0, 0, 0, 0, 0, 0, 0, 0, 0, 0]\n",
            "['Female,Male', 'Male,Male', 'Female,Female', 'Male,Male', 'Male,Female', 'Female,Female', 'Female,Male', 'Male,Female', 'Female,Male', 'Male,Female', 'Male,Male', 'Female,Male', 'Female,Male', 'Male,Male', 'Male,Male']\n"
          ],
          "name": "stdout"
        }
      ]
    },
    {
      "cell_type": "code",
      "metadata": {
        "id": "9sktCb0MVyPv"
      },
      "source": [
        "#add these columns to the dataframe\n",
        "crash_df['malesInvolved'] = malesInvolved\n",
        "crash_df['femalesInvolved'] = femalesInvolved\n",
        "crash_df['notProvidedInvolved'] = notProvided"
      ],
      "execution_count": null,
      "outputs": []
    },
    {
      "cell_type": "code",
      "metadata": {
        "id": "FSsEWcY_nXtV"
      },
      "source": [
        "#now i can drop the category\n",
        "crash_df = crash_df.drop(['Drivergen'], axis=1)"
      ],
      "execution_count": null,
      "outputs": []
    },
    {
      "cell_type": "markdown",
      "metadata": {
        "id": "rLFvZno2R9lN"
      },
      "source": [
        "*Driver_Action_Type* "
      ]
    },
    {
      "cell_type": "code",
      "metadata": {
        "id": "FMdN0q8u29fr",
        "colab": {
          "base_uri": "https://localhost:8080/",
          "height": 216
        },
        "outputId": "53c5070f-70d7-4c89-85ec-ca235543468c"
      },
      "source": [
        "crash_df[\"Driver_Action_Type_Cd\"].value_counts()"
      ],
      "execution_count": null,
      "outputs": [
        {
          "output_type": "execute_result",
          "data": {
            "text/plain": [
              "12. Following Too Close,1. No Improper Action                                                                                                                  136441\n",
              "40. Fail to Maintain Proper Control                                                                                                                            101464\n",
              "11. Did Not Have Right-of-Way,1. No Improper Action                                                                                                             91112\n",
              "1. No Improper Action                                                                                                                                           58539\n",
              "40. Fail to Maintain Proper Control,1. No Improper Action                                                                                                       35982\n",
              "                                                                                                                                                                ...  \n",
              "25. Drive Through Work Zone,18. Improper Backing                                                                                                                    1\n",
              "40. Fail to Maintain Proper Control,Not Applicable,Not Applicable,Not Applicable,Not Applicable,Not Applicable,Not Applicable,Not Applicable,Not Applicable         1\n",
              "29. Improper Parking Location,29. Improper Parking Location,29. Improper Parking Location,1. No Improper Action                                                     1\n",
              "10. Wrong Side Of Road - Not Overtaking,21. Disregarded Traffic Signal                                                                                              1\n",
              "21. Disregarded Traffic Signal,1. No Improper Action,40. Fail to Maintain Proper Control                                                                            1\n",
              "Name: Driver_Action_Type_Cd, Length: 3682, dtype: int64"
            ]
          },
          "metadata": {
            "tags": []
          },
          "execution_count": 34
        }
      ]
    },
    {
      "cell_type": "code",
      "metadata": {
        "id": "8-nJrS2cL13a",
        "colab": {
          "base_uri": "https://localhost:8080/",
          "height": 70
        },
        "outputId": "79bcd325-6d67-4093-c812-b0a414ec0436"
      },
      "source": [
        "#find all the possible types of actions by using a python set\n",
        "dActType = crash_df[\"Driver_Action_Type_Cd\"]\n",
        "possibleActions = set()\n",
        "dAct_list = dActType.to_list() #probably a better way to do this but whatever\n",
        "n = len(dAct_list) \n",
        "for i in range(len(dAct_list)):\n",
        "  string = dAct_list[i]\n",
        "  #print(string)\n",
        "  #split the string into a list containing the actions as strings\n",
        "  subList = string.split(',')\n",
        "\n",
        "  #go through eachtion\n",
        "  for action in subList:\n",
        "    possibleActions.add(action) #since its a set it will only add to this if its not already in there\n",
        "    \n",
        "\n",
        "actionsList = list(possibleActions)\n",
        "sortedPossibleActions = sorted(actionsList)\n",
        "print(sortedPossibleActions)\n",
        "print(len(actionsList))\n"
      ],
      "execution_count": null,
      "outputs": [
        {
          "output_type": "stream",
          "text": [
            "['1. No Improper Action', '10. Wrong Side Of Road - Not Overtaking', '11. Did Not Have Right-of-Way', '12. Following Too Close', '13. Fail to Signal or Improper Signal', '14. Improper Turn - Wide Right Turn', '15. Improper Turn - Cut Corner on Left Turn', '16. Improper Turn From Wrong Lane', '17. Other Improper Turn', '18. Improper Backing', '19. Improper Start From Parked Position', '2. Exceeded Speed Limit', '20. Disregarded Officer or Flagger', '21. Disregarded Traffic Signal', '22. Disregarded Stop or Yield Sign', '23. Driver Distraction', '24. Fail to Stop at Through Highway - No Sign', '25. Drive Through Work Zone', '26. Fail to Set Out Flares or Flags', '27. Fail to Dim Headlights', '28. Driving Without Lights', '29. Improper Parking Location', '3. Exceeded Safe Speed But Not Speed Limit', '30. Avoiding Ped', '31. Avoiding Other Vehicle', '32. Avoiding Animal', '33. Crowded Off Highway', '34. Hit and Run', '35. Car Ran Away - No Driver', '36. Blinded by Headlights', '37. Other', '38. Avoiding Object in Roadway', '39. Eluding Police', '4. Overtaking On Hill', '40. Fail to Maintain Proper Control', '41. Improper Passing', '42. Improper or Unsafe Lane Change', '43. Over Correction', '5. Overtaking On Curve', '6. Overtaking at Intersection', '7. Improper Passing of School Bus', '8. Cutting In', '9. Other Improper Passing', 'Not Applicable']\n",
            "44\n"
          ],
          "name": "stdout"
        }
      ]
    },
    {
      "cell_type": "code",
      "metadata": {
        "id": "7pKEaJCnrCsu"
      },
      "source": [
        "\n",
        "#now I know the categories, I can go through the dataset and turn each feature into a boolean where its 1 if the thing happened in that incident and 0 if it didn't\n",
        "#probably easier way to do this but I'll just brute force this\n",
        "n = len(dAct_list) #basically the number of instances\n",
        "\n",
        "improperActions = np.zeros([n,44], dtype = int)\n",
        "\n",
        "for i in range(n): #go through each instance\n",
        "  string = dAct_list[i]\n",
        "  #print(string)\n",
        "  #split the string into a list containing the actions as strings\n",
        "  subList = string.split(',')\n",
        "  #print(subList)\n",
        "  #go through eachtion\n",
        "  for actionString in subList:\n",
        "    \n",
        "    if actionString == 'Not Applicable':\n",
        "      improperActions[i][0] = 1\n",
        "    else:\n",
        "      #split again based on the decimal and just get the incident number\n",
        "      actionNum= int(actionString.split('.')[0])\n",
        "      #add it to the corresponding part of improper actions\n",
        "      improperActions[i][actionNum] = 1 #basically makes the feature a boolean if a particular action happened in a crash"
      ],
      "execution_count": null,
      "outputs": []
    },
    {
      "cell_type": "code",
      "metadata": {
        "id": "4teBJCPY2yqy"
      },
      "source": [
        "#turn each column of improperActions array into a feature\n",
        "actionColList = list(improperActions.T)\n",
        "for actNum in range(1, len(actionColList)): #iterate through each column\n",
        "  #print(actNum)\n",
        "  #print(list(actionColList[actNum]))\n",
        "  crash_df['ImpropAct'+str(actNum)] = list(actionColList[actNum])"
      ],
      "execution_count": null,
      "outputs": []
    },
    {
      "cell_type": "code",
      "metadata": {
        "id": "nC0O8utK6xKv"
      },
      "source": [
        "crash_df = crash_df.drop(['Driver_Action_Type_Cd'], axis=1)"
      ],
      "execution_count": null,
      "outputs": []
    },
    {
      "cell_type": "markdown",
      "metadata": {
        "id": "py9VjI2ZFdmY"
      },
      "source": [
        "Vehicle_Body_Type"
      ]
    },
    {
      "cell_type": "code",
      "metadata": {
        "id": "YMhgb00GFf5-",
        "colab": {
          "base_uri": "https://localhost:8080/",
          "height": 70
        },
        "outputId": "4f082146-dfc6-484b-9199-9ffede296f2a"
      },
      "source": [
        "#find all the possible types of actions by using a python set\n",
        "vehicleType = crash_df[\"Vehicle_Body_Type_Cd\"]\n",
        "possibleVehicles = set()\n",
        "vtype_list = vehicleType.to_list() #probably a better way to do this but whatever\n",
        "n = len(vtype_list) \n",
        "for i in range(len(vtype_list)):\n",
        "  string = vtype_list[i]\n",
        "  #print(string)\n",
        "  #split the string into a list containing the actions as strings\n",
        "  subList = string.split(',')\n",
        "\n",
        "  #go through eachtion\n",
        "  for vehicle in subList:\n",
        "    possibleVehicles.add(vehicle) #since its a set it will only add to this if its not already in there\n",
        "    \n",
        "\n",
        "vehiclesList = list(possibleVehicles)\n",
        "sortedPossibleVehicles= sorted(vehiclesList)\n",
        "print(sortedPossibleVehicles)\n",
        "print(len(vehiclesList))\n"
      ],
      "execution_count": null,
      "outputs": [
        {
          "output_type": "stream",
          "text": [
            "[' Bookmobile', ' Go-cart', ' Golf Cart', ' Hearse', ' Recreational Vehicle', ' etc.)', '1. Passenger car', '10. Moped', '11. Motorcycle', '12. Emergency Vehicle (Regardless of Veh Type)', '13. Bus - School Bus', '14. Bus - City Transit Bus/Privately Owned Church Bus', '15. Bus - Commercial Bus', '16. Other (Scooter', '18. Special Vehicle - Farm Machinery', '19. Special Vehicle - ATV', '2. Truck - Pick-up/Passenger Truck', '21. Special Vehicle - Low Speed Vehicle', '22. Truck - Sport Utility Vehicle (SUV)', '23. Truck - Single Unit Truck (3 Axles or More)', '25. Truck - Truck Tractor (Bobtail-No Trailer)', '3. Van', '4. Truck - Single Unit Truck (2-Axles)', '7. Motor Home', '8. Special Vehicle - Oversized (Veh/Earthmover/Road Equip.)', '9. Bicycle', 'Not Applicable']\n",
            "27\n"
          ],
          "name": "stdout"
        }
      ]
    },
    {
      "cell_type": "code",
      "metadata": {
        "id": "MWdAp7D3GfPn",
        "colab": {
          "base_uri": "https://localhost:8080/",
          "height": 33
        },
        "outputId": "6ba1b64b-5d5b-4b35-d882-7da8c882b649"
      },
      "source": [
        "#now I know the categories, I can go through the dataset and turn each feature into a boolean where its 1 if the thing happened in that incident and 0 if it didn't\n",
        "#probably easier way to do this but I'll just brute force this\n",
        "n = len(vtype_list) #basically the number of instances\n",
        "print(n)\n",
        "vehiclesInvolved = np.zeros([n,len(vehiclesList)-1], dtype = int)\n",
        "\n",
        "for i in range(n): #go through each instance\n",
        "  string = vtype_list[i]\n",
        "  #print(string)\n",
        "  #split the string into a list containing the actions as strings\n",
        "  subList = string.split(',')\n",
        "  #print(subList)\n",
        "  #go through eachtion\n",
        "  for vehicleString in subList:\n",
        "    \n",
        "    if vehicleString == 'Not Applicable':\n",
        "      vehiclesInvolved[i][0] = 1\n",
        "    elif ((vehicleString == ' Bookmobile') or (vehicleString == ' Go-cart') or (vehicleString == ' Golf Cart') or (vehicleString == ' Hearse') or (vehicleString == ' Recreational Vehicle') or (vehicleString == ' etc.)')): #saying these count as other\n",
        "      vehiclesInvolved[i][16] = 1\n",
        "    else:\n",
        "      #split again based on the decimal and just get the incident number\n",
        "      vehicleNum= int(vehicleString.split('.')[0])\n",
        "      #add it to the corresponding part of improper actions\n",
        "      vehiclesInvolved[i][vehicleNum] = 1 #basically makes the feature a boolean if a particular action happened in a crash"
      ],
      "execution_count": null,
      "outputs": [
        {
          "output_type": "stream",
          "text": [
            "775095\n"
          ],
          "name": "stdout"
        }
      ]
    },
    {
      "cell_type": "code",
      "metadata": {
        "id": "-rjfP_YUJ_7E"
      },
      "source": [
        "#turn each column of improperActions array into a feature\n",
        "vehicleColList = list(vehiclesInvolved.T)\n",
        "for vNum in range(1, len(vehicleColList)): #iterate through each column\n",
        "  crash_df['Vehicle_Type_'+str(vNum)] = list(vehicleColList[vNum])"
      ],
      "execution_count": null,
      "outputs": []
    },
    {
      "cell_type": "code",
      "metadata": {
        "id": "evyL1Mq7KVjI"
      },
      "source": [
        "crash_df = crash_df.drop(['Vehicle_Body_Type_Cd'], axis=1)"
      ],
      "execution_count": null,
      "outputs": []
    },
    {
      "cell_type": "markdown",
      "metadata": {
        "id": "cDL-D5u7Lz4r"
      },
      "source": [
        "Fatal Crashes"
      ]
    },
    {
      "cell_type": "code",
      "metadata": {
        "id": "z18E1_UHO-lm",
        "colab": {
          "base_uri": "https://localhost:8080/",
          "height": 66
        },
        "outputId": "a90271cc-df72-4ac5-91a9-df06a6e60b26"
      },
      "source": [
        "crash_df[\"Fatal_Crashes\"].value_counts()"
      ],
      "execution_count": null,
      "outputs": [
        {
          "output_type": "execute_result",
          "data": {
            "text/plain": [
              "0    770335\n",
              "1      4760\n",
              "Name: Fatal_Crashes, dtype: int64"
            ]
          },
          "metadata": {
            "tags": []
          },
          "execution_count": 43
        }
      ]
    },
    {
      "cell_type": "markdown",
      "metadata": {
        "id": "AwyElvehWxLt"
      },
      "source": [
        "Above is the a plot of fatal crashes that is color coordinated by the speed limit at the crash location."
      ]
    },
    {
      "cell_type": "markdown",
      "metadata": {
        "id": "gybJv7I5OuQ0"
      },
      "source": [
        "#Crash-Severity Classification"
      ]
    },
    {
      "cell_type": "markdown",
      "metadata": {
        "id": "PTpiflNX8uDD"
      },
      "source": [
        "**CUSTOM CRASH SEVERITY METRIC**"
      ]
    },
    {
      "cell_type": "markdown",
      "metadata": {
        "id": "GoPsDEsb8ytC"
      },
      "source": [
        "We want our SVM to predict the following 3 categories:\n",
        "*  MILD - only property damage\n",
        "*  MEDIUM - Only medium visible- and non- visible injuries occured in a quantity less than 5\n",
        "*  SEVERE - either there was a severe injury, or the crash was fatal, or 5 or more people were hurt in a medium manner"
      ]
    },
    {
      "cell_type": "code",
      "metadata": {
        "id": "9q9Il7BzOy9E",
        "colab": {
          "base_uri": "https://localhost:8080/",
          "height": 1000
        },
        "outputId": "f3b31aa6-d2de-45af-c014-81480398f420"
      },
      "source": [
        "crash_df.info(verbose=True)"
      ],
      "execution_count": null,
      "outputs": [
        {
          "output_type": "stream",
          "text": [
            "<class 'pandas.core.frame.DataFrame'>\n",
            "Int64Index: 775095 entries, 0 to 884005\n",
            "Data columns (total 112 columns):\n",
            " #   Column                    Dtype  \n",
            "---  ------                    -----  \n",
            " 0   Alcohol_Notalcohol        float64\n",
            " 1   A_Crash                   int64  \n",
            " 2   A_People                  int64  \n",
            " 3   Belted_Unbelted           float64\n",
            " 4   Bike_Nonbike              float64\n",
            " 5   B_Crash                   int64  \n",
            " 6   B_People                  int64  \n",
            " 7   Carspeedlimit             float64\n",
            " 8   Collision_Type            object \n",
            " 9   Crash_Military_Tm         int64  \n",
            " 10  Crash_Severity            object \n",
            " 11  C_Crash                   int64  \n",
            " 12  C_People                  int64  \n",
            " 13  Deer_Nodeer               float64\n",
            " 14  Distracted_Notdistracted  float64\n",
            " 15  FAC                       object \n",
            " 16  Fatal_Crashes             int64  \n",
            " 17  First_Harmful_Event       object \n",
            " 18  FUN                       object \n",
            " 19  Hitrun_Not_Hitrun         float64\n",
            " 20  K_People                  int64  \n",
            " 21  LATITUDE                  float64\n",
            " 22  Light_Condition           object \n",
            " 23  LONGITUDE                 float64\n",
            " 24  Motor_Nonmotor            float64\n",
            " 25  Passage                   float64\n",
            " 26  Pdo_Crash                 int64  \n",
            " 27  Pedage                    float64\n",
            " 28  Pedestrians_Injured       int64  \n",
            " 29  Persons_Injured           int64  \n",
            " 30  Roadway_Alignment         object \n",
            " 31  Roadway_Surface_Cond      object \n",
            " 32  School_Zone               int64  \n",
            " 33  Speed_Notspeed            float64\n",
            " 34  Weather_Condition         object \n",
            " 35  Work_Zone_Related         int64  \n",
            " 36  drAge_young               int64  \n",
            " 37  drAge_midyoung            int64  \n",
            " 38  drAge_mid                 int64  \n",
            " 39  drAge_midold              int64  \n",
            " 40  drAge_old                 int64  \n",
            " 41  malesInvolved             int64  \n",
            " 42  femalesInvolved           int64  \n",
            " 43  notProvidedInvolved       int64  \n",
            " 44  ImpropAct1                int64  \n",
            " 45  ImpropAct2                int64  \n",
            " 46  ImpropAct3                int64  \n",
            " 47  ImpropAct4                int64  \n",
            " 48  ImpropAct5                int64  \n",
            " 49  ImpropAct6                int64  \n",
            " 50  ImpropAct7                int64  \n",
            " 51  ImpropAct8                int64  \n",
            " 52  ImpropAct9                int64  \n",
            " 53  ImpropAct10               int64  \n",
            " 54  ImpropAct11               int64  \n",
            " 55  ImpropAct12               int64  \n",
            " 56  ImpropAct13               int64  \n",
            " 57  ImpropAct14               int64  \n",
            " 58  ImpropAct15               int64  \n",
            " 59  ImpropAct16               int64  \n",
            " 60  ImpropAct17               int64  \n",
            " 61  ImpropAct18               int64  \n",
            " 62  ImpropAct19               int64  \n",
            " 63  ImpropAct20               int64  \n",
            " 64  ImpropAct21               int64  \n",
            " 65  ImpropAct22               int64  \n",
            " 66  ImpropAct23               int64  \n",
            " 67  ImpropAct24               int64  \n",
            " 68  ImpropAct25               int64  \n",
            " 69  ImpropAct26               int64  \n",
            " 70  ImpropAct27               int64  \n",
            " 71  ImpropAct28               int64  \n",
            " 72  ImpropAct29               int64  \n",
            " 73  ImpropAct30               int64  \n",
            " 74  ImpropAct31               int64  \n",
            " 75  ImpropAct32               int64  \n",
            " 76  ImpropAct33               int64  \n",
            " 77  ImpropAct34               int64  \n",
            " 78  ImpropAct35               int64  \n",
            " 79  ImpropAct36               int64  \n",
            " 80  ImpropAct37               int64  \n",
            " 81  ImpropAct38               int64  \n",
            " 82  ImpropAct39               int64  \n",
            " 83  ImpropAct40               int64  \n",
            " 84  ImpropAct41               int64  \n",
            " 85  ImpropAct42               int64  \n",
            " 86  ImpropAct43               int64  \n",
            " 87  Vehicle_Type_1            int64  \n",
            " 88  Vehicle_Type_2            int64  \n",
            " 89  Vehicle_Type_3            int64  \n",
            " 90  Vehicle_Type_4            int64  \n",
            " 91  Vehicle_Type_5            int64  \n",
            " 92  Vehicle_Type_6            int64  \n",
            " 93  Vehicle_Type_7            int64  \n",
            " 94  Vehicle_Type_8            int64  \n",
            " 95  Vehicle_Type_9            int64  \n",
            " 96  Vehicle_Type_10           int64  \n",
            " 97  Vehicle_Type_11           int64  \n",
            " 98  Vehicle_Type_12           int64  \n",
            " 99  Vehicle_Type_13           int64  \n",
            " 100 Vehicle_Type_14           int64  \n",
            " 101 Vehicle_Type_15           int64  \n",
            " 102 Vehicle_Type_16           int64  \n",
            " 103 Vehicle_Type_17           int64  \n",
            " 104 Vehicle_Type_18           int64  \n",
            " 105 Vehicle_Type_19           int64  \n",
            " 106 Vehicle_Type_20           int64  \n",
            " 107 Vehicle_Type_21           int64  \n",
            " 108 Vehicle_Type_22           int64  \n",
            " 109 Vehicle_Type_23           int64  \n",
            " 110 Vehicle_Type_24           int64  \n",
            " 111 Vehicle_Type_25           int64  \n",
            "dtypes: float64(13), int64(90), object(9)\n",
            "memory usage: 668.2+ MB\n"
          ],
          "name": "stdout"
        }
      ]
    },
    {
      "cell_type": "code",
      "metadata": {
        "id": "ydFge1GYNNtc",
        "colab": {
          "base_uri": "https://localhost:8080/",
          "height": 33
        },
        "outputId": "b8af85ff-24e8-4aff-ad8d-1371ff535c3c"
      },
      "source": [
        "#build our custom crash severity metric into the dataset for training\n",
        "print(n)\n",
        "severityList= []\n",
        "for crash in crash_df.index:  #loop through every crash\n",
        "  #print(crash_df['Name'][crash], crash_df['Stream'][crash]) \n",
        "  if((crash_df['K_People'][crash] >= 1) or (crash_df['A_People'][crash] >=1)) :\n",
        "      severityList.append('SEVERE')\n",
        "  elif ((crash_df['B_People'][crash] >= 1) or (crash_df['C_People'][crash] >=1)): #if someone was injured in a medium visible or non visible manner\n",
        "    severityList.append('MEDIUM')\n",
        "  else:\n",
        "    #this means only property damage occured\n",
        "    severityList.append('MILD')"
      ],
      "execution_count": null,
      "outputs": [
        {
          "output_type": "stream",
          "text": [
            "775095\n"
          ],
          "name": "stdout"
        }
      ]
    },
    {
      "cell_type": "code",
      "metadata": {
        "id": "FF7K395jVJNa",
        "colab": {
          "base_uri": "https://localhost:8080/",
          "height": 33
        },
        "outputId": "3207979a-ef23-418c-d776-cc5b73d644bc"
      },
      "source": [
        "print(len(severityList))"
      ],
      "execution_count": null,
      "outputs": [
        {
          "output_type": "stream",
          "text": [
            "775095\n"
          ],
          "name": "stdout"
        }
      ]
    },
    {
      "cell_type": "markdown",
      "metadata": {
        "id": "eMsa4LTQVYHa"
      },
      "source": [
        "*Add our Severity Metric to the dataframe and drop the others that could be related to it*"
      ]
    },
    {
      "cell_type": "code",
      "metadata": {
        "id": "imsU6vNUWbYf"
      },
      "source": [
        "#add these columns to the dataframe\n",
        "crash_df['SEVERITY'] = severityList"
      ],
      "execution_count": null,
      "outputs": []
    },
    {
      "cell_type": "code",
      "metadata": {
        "id": "rXqAPiXNWroV"
      },
      "source": [
        "#drop the others\n",
        "crash_df_final = crash_df.drop([\"A_Crash\", \"A_People\", \"B_Crash\", \"B_People\", \"Crash_Severity\", \"C_Crash\", \"C_People\", \"Fatal_Crashes\", \"K_People\", \"Persons_Injured\",\"Pedestrians_Injured\"], axis=1)"
      ],
      "execution_count": null,
      "outputs": []
    },
    {
      "cell_type": "code",
      "metadata": {
        "id": "KjWPrhYnmQRN",
        "colab": {
          "base_uri": "https://localhost:8080/",
          "height": 1000
        },
        "outputId": "41e66aa9-0159-4432-938b-471b589745d8"
      },
      "source": [
        "feature_labels = list(crash_df_final)\n",
        "feature_labels"
      ],
      "execution_count": null,
      "outputs": [
        {
          "output_type": "execute_result",
          "data": {
            "text/plain": [
              "['Alcohol_Notalcohol',\n",
              " 'Belted_Unbelted',\n",
              " 'Bike_Nonbike',\n",
              " 'Carspeedlimit',\n",
              " 'Collision_Type',\n",
              " 'Crash_Military_Tm',\n",
              " 'Deer_Nodeer',\n",
              " 'Distracted_Notdistracted',\n",
              " 'FAC',\n",
              " 'First_Harmful_Event',\n",
              " 'FUN',\n",
              " 'Hitrun_Not_Hitrun',\n",
              " 'LATITUDE',\n",
              " 'Light_Condition',\n",
              " 'LONGITUDE',\n",
              " 'Motor_Nonmotor',\n",
              " 'Passage',\n",
              " 'Pdo_Crash',\n",
              " 'Pedage',\n",
              " 'Roadway_Alignment',\n",
              " 'Roadway_Surface_Cond',\n",
              " 'School_Zone',\n",
              " 'Speed_Notspeed',\n",
              " 'Weather_Condition',\n",
              " 'Work_Zone_Related',\n",
              " 'drAge_young',\n",
              " 'drAge_midyoung',\n",
              " 'drAge_mid',\n",
              " 'drAge_midold',\n",
              " 'drAge_old',\n",
              " 'malesInvolved',\n",
              " 'femalesInvolved',\n",
              " 'notProvidedInvolved',\n",
              " 'ImpropAct1',\n",
              " 'ImpropAct2',\n",
              " 'ImpropAct3',\n",
              " 'ImpropAct4',\n",
              " 'ImpropAct5',\n",
              " 'ImpropAct6',\n",
              " 'ImpropAct7',\n",
              " 'ImpropAct8',\n",
              " 'ImpropAct9',\n",
              " 'ImpropAct10',\n",
              " 'ImpropAct11',\n",
              " 'ImpropAct12',\n",
              " 'ImpropAct13',\n",
              " 'ImpropAct14',\n",
              " 'ImpropAct15',\n",
              " 'ImpropAct16',\n",
              " 'ImpropAct17',\n",
              " 'ImpropAct18',\n",
              " 'ImpropAct19',\n",
              " 'ImpropAct20',\n",
              " 'ImpropAct21',\n",
              " 'ImpropAct22',\n",
              " 'ImpropAct23',\n",
              " 'ImpropAct24',\n",
              " 'ImpropAct25',\n",
              " 'ImpropAct26',\n",
              " 'ImpropAct27',\n",
              " 'ImpropAct28',\n",
              " 'ImpropAct29',\n",
              " 'ImpropAct30',\n",
              " 'ImpropAct31',\n",
              " 'ImpropAct32',\n",
              " 'ImpropAct33',\n",
              " 'ImpropAct34',\n",
              " 'ImpropAct35',\n",
              " 'ImpropAct36',\n",
              " 'ImpropAct37',\n",
              " 'ImpropAct38',\n",
              " 'ImpropAct39',\n",
              " 'ImpropAct40',\n",
              " 'ImpropAct41',\n",
              " 'ImpropAct42',\n",
              " 'ImpropAct43',\n",
              " 'Vehicle_Type_1',\n",
              " 'Vehicle_Type_2',\n",
              " 'Vehicle_Type_3',\n",
              " 'Vehicle_Type_4',\n",
              " 'Vehicle_Type_5',\n",
              " 'Vehicle_Type_6',\n",
              " 'Vehicle_Type_7',\n",
              " 'Vehicle_Type_8',\n",
              " 'Vehicle_Type_9',\n",
              " 'Vehicle_Type_10',\n",
              " 'Vehicle_Type_11',\n",
              " 'Vehicle_Type_12',\n",
              " 'Vehicle_Type_13',\n",
              " 'Vehicle_Type_14',\n",
              " 'Vehicle_Type_15',\n",
              " 'Vehicle_Type_16',\n",
              " 'Vehicle_Type_17',\n",
              " 'Vehicle_Type_18',\n",
              " 'Vehicle_Type_19',\n",
              " 'Vehicle_Type_20',\n",
              " 'Vehicle_Type_21',\n",
              " 'Vehicle_Type_22',\n",
              " 'Vehicle_Type_23',\n",
              " 'Vehicle_Type_24',\n",
              " 'Vehicle_Type_25',\n",
              " 'SEVERITY']"
            ]
          },
          "metadata": {
            "tags": []
          },
          "execution_count": 49
        }
      ]
    },
    {
      "cell_type": "code",
      "metadata": {
        "id": "oF908P8JmVBW"
      },
      "source": [
        "feature_labels_one_hot = ['Alcohol_Notalcohol',\n",
        " 'Belted_Unbelted',\n",
        " 'Bike_Nonbike',\n",
        " 'Carspeedlimit',\n",
        "'2. Angle', '4. Sideswipe - Same Direction', '1. Rear End',\n",
        "       '5. Sideswipe - Opposite Direction', '3. Head On',\n",
        "       '15. Backed Into', '9. Fixed Object - Off Road', '16. Other',\n",
        "       '8. Non-Collision', '6. Fixed Object in Road', '10. Deer',\n",
        "       '11. Other Animal', '12. Ped', '14. Motorcyclist', '7. Train',\n",
        "       '13. Bicyclist', 'Not Provided', 'Not Applicable',\n",
        " 'Crash_Military_Tm',\n",
        " 'Deer_Nodeer',\n",
        " 'Distracted_Notdistracted',\n",
        "'1.Divided, no control of access',\n",
        "       '3.Divided, full control of access', '0.Two-way, non-divided',\n",
        "       '4.One-way, part of a one-way system', '7.Transition',\n",
        "       '2.Divided, partial control of access',\n",
        "       '5.Two-way, part of a one-way system',\n",
        "       'B.Two-way structure (bridge, tunnel, causeway, etc.',\n",
        "       '6.One-way couplet',\n",
        "'1. On Roadway', '7. In Parking Lane or Zone', '3. Median',\n",
        "       '2. Shoulder', '4. Roadside', '8. Off Roadway, Location Unknown',\n",
        "       '9. Outside Right-of-Way', '5. Gore', '6. Separator',\n",
        "'2.Rural Other Principal Arterial',\n",
        "       'E.Urban Other Principal Arterials; Connecting Links of Other Rural Principal Arterial',\n",
        "       'H.Urban Minor Arterial', '1.Rural Interstate',\n",
        "       'A.Urban Interstate', '3.Rural Minor Arterial',\n",
        "       '4.Rural Major Collector', '6.Rural Local', 'I.Urban Collector',\n",
        "       'J.Urban Local',\n",
        "       'B.Urban Freeways and Expressways; Connecting Links of Rural Principal Arterial',\n",
        "       '5.Rural Minor Collector',\n",
        " 'Hitrun_Not_Hitrun',\n",
        " 'LATITUDE',\n",
        "'2. Daylight', '4. Darkness - Road Lighted',\n",
        "       '5. Darkness - Road Not Lighted', '3. Dusk', '1. Dawn',\n",
        "       '6. Darkness - Unknown Road Lighting', '7. Unknown',\n",
        " 'LONGITUDE',\n",
        " 'Motor_Nonmotor',\n",
        " 'Passage',\n",
        " 'Pdo_Crash',\n",
        " 'Pedage',\n",
        "'1. Straight - Level', '3. Grade - Straight', '2. Curve - Level',\n",
        "       '4. Grade - Curve', '6. Hillcrest - Curve', '7. Dip - Straight',\n",
        "       '10. On/Off Ramp', '5. Hillcrest - Straight', '9. Other',\n",
        "       '8. Dip - Curve',\n",
        "'1. Dry', '2. Wet', '7. Other', '3. Snowy', '4. Icy', '10. Slush',\n",
        "       '9. Water (Standing, Moving)', '6. Oil/Other Fluids',\n",
        "       '11. Sand, Dirt, Gravel', '8. Natural Debris', '5. Muddy',\n",
        " 'School_Zone',\n",
        " 'Speed_Notspeed',\n",
        "'1. No Adverse Condition (Clear/Cloudy)', '5. Rain', '4. Mist',\n",
        "       '3. Fog', '6. Snow', '7. Sleet/Hail', '8. Smoke/Dust', '9. Other',\n",
        "       '11. Severe Crosswinds', '10. Blowing Sand, Soil, Dirt, or Snow',\n",
        "       'Not Applicable',\n",
        " 'Work_Zone_Related',\n",
        " 'drAge_young',\n",
        " 'drAge_midyoung',\n",
        " 'drAge_mid',\n",
        " 'drAge_midold',\n",
        " 'drAge_old',\n",
        " 'malesInvolved',\n",
        " 'femalesInvolved',\n",
        " 'notProvidedInvolved',\n",
        " 'ImpropAct1',\n",
        " 'ImpropAct2',\n",
        " 'ImpropAct3',\n",
        " 'ImpropAct4',\n",
        " 'ImpropAct5',\n",
        " 'ImpropAct6',\n",
        " 'ImpropAct7',\n",
        " 'ImpropAct8',\n",
        " 'ImpropAct9',\n",
        " 'ImpropAct10',\n",
        " 'ImpropAct11',\n",
        " 'ImpropAct12',\n",
        " 'ImpropAct13',\n",
        " 'ImpropAct14',\n",
        " 'ImpropAct15',\n",
        " 'ImpropAct16',\n",
        " 'ImpropAct17',\n",
        " 'ImpropAct18',\n",
        " 'ImpropAct19',\n",
        " 'ImpropAct20',\n",
        " 'ImpropAct21',\n",
        " 'ImpropAct22',\n",
        " 'ImpropAct23',\n",
        " 'ImpropAct24',\n",
        " 'ImpropAct25',\n",
        " 'ImpropAct26',\n",
        " 'ImpropAct27',\n",
        " 'ImpropAct28',\n",
        " 'ImpropAct29',\n",
        " 'ImpropAct30',\n",
        " 'ImpropAct31',\n",
        " 'ImpropAct32',\n",
        " 'ImpropAct33',\n",
        " 'ImpropAct34',\n",
        " 'ImpropAct35',\n",
        " 'ImpropAct36',\n",
        " 'ImpropAct37',\n",
        " 'ImpropAct38',\n",
        " 'ImpropAct39',\n",
        " 'ImpropAct40',\n",
        " 'ImpropAct41',\n",
        " 'ImpropAct42',\n",
        " 'ImpropAct43',\n",
        " 'Vehicle_Type_1',\n",
        " 'Vehicle_Type_2',\n",
        " 'Vehicle_Type_3',\n",
        " 'Vehicle_Type_4',\n",
        " 'Vehicle_Type_5',\n",
        " 'Vehicle_Type_6',\n",
        " 'Vehicle_Type_7',\n",
        " 'Vehicle_Type_8',\n",
        " 'Vehicle_Type_9',\n",
        " 'Vehicle_Type_10',\n",
        " 'Vehicle_Type_11',\n",
        " 'Vehicle_Type_12',\n",
        " 'Vehicle_Type_13',\n",
        " 'Vehicle_Type_14',\n",
        " 'Vehicle_Type_15',\n",
        " 'Vehicle_Type_16',\n",
        " 'Vehicle_Type_17',\n",
        " 'Vehicle_Type_18',\n",
        " 'Vehicle_Type_19',\n",
        " 'Vehicle_Type_20',\n",
        " 'Vehicle_Type_21',\n",
        " 'Vehicle_Type_22',\n",
        " 'Vehicle_Type_23',\n",
        " 'Vehicle_Type_24',\n",
        " 'Vehicle_Type_25']"
      ],
      "execution_count": null,
      "outputs": []
    },
    {
      "cell_type": "code",
      "metadata": {
        "id": "WRuX9diEpC8J",
        "colab": {
          "base_uri": "https://localhost:8080/",
          "height": 33
        },
        "outputId": "0289f53b-6795-4401-f7de-b6a57341ddc9"
      },
      "source": [
        "len(feature_labels_one_hot)"
      ],
      "execution_count": null,
      "outputs": [
        {
          "output_type": "execute_result",
          "data": {
            "text/plain": [
              "180"
            ]
          },
          "metadata": {
            "tags": []
          },
          "execution_count": 51
        }
      ]
    },
    {
      "cell_type": "code",
      "metadata": {
        "id": "DYpTJFSXRjtT",
        "colab": {
          "base_uri": "https://localhost:8080/",
          "height": 1000
        },
        "outputId": "84587531-0e29-463a-f8fc-de848656a5da"
      },
      "source": [
        "crash_df_subset = crash_df_final.sample(frac = .2)\n",
        "crash_df_subset.info(verbose='true')"
      ],
      "execution_count": null,
      "outputs": [
        {
          "output_type": "stream",
          "text": [
            "<class 'pandas.core.frame.DataFrame'>\n",
            "Int64Index: 155019 entries, 758908 to 14714\n",
            "Data columns (total 102 columns):\n",
            " #   Column                    Dtype  \n",
            "---  ------                    -----  \n",
            " 0   Alcohol_Notalcohol        float64\n",
            " 1   Belted_Unbelted           float64\n",
            " 2   Bike_Nonbike              float64\n",
            " 3   Carspeedlimit             float64\n",
            " 4   Collision_Type            object \n",
            " 5   Crash_Military_Tm         int64  \n",
            " 6   Deer_Nodeer               float64\n",
            " 7   Distracted_Notdistracted  float64\n",
            " 8   FAC                       object \n",
            " 9   First_Harmful_Event       object \n",
            " 10  FUN                       object \n",
            " 11  Hitrun_Not_Hitrun         float64\n",
            " 12  LATITUDE                  float64\n",
            " 13  Light_Condition           object \n",
            " 14  LONGITUDE                 float64\n",
            " 15  Motor_Nonmotor            float64\n",
            " 16  Passage                   float64\n",
            " 17  Pdo_Crash                 int64  \n",
            " 18  Pedage                    float64\n",
            " 19  Roadway_Alignment         object \n",
            " 20  Roadway_Surface_Cond      object \n",
            " 21  School_Zone               int64  \n",
            " 22  Speed_Notspeed            float64\n",
            " 23  Weather_Condition         object \n",
            " 24  Work_Zone_Related         int64  \n",
            " 25  drAge_young               int64  \n",
            " 26  drAge_midyoung            int64  \n",
            " 27  drAge_mid                 int64  \n",
            " 28  drAge_midold              int64  \n",
            " 29  drAge_old                 int64  \n",
            " 30  malesInvolved             int64  \n",
            " 31  femalesInvolved           int64  \n",
            " 32  notProvidedInvolved       int64  \n",
            " 33  ImpropAct1                int64  \n",
            " 34  ImpropAct2                int64  \n",
            " 35  ImpropAct3                int64  \n",
            " 36  ImpropAct4                int64  \n",
            " 37  ImpropAct5                int64  \n",
            " 38  ImpropAct6                int64  \n",
            " 39  ImpropAct7                int64  \n",
            " 40  ImpropAct8                int64  \n",
            " 41  ImpropAct9                int64  \n",
            " 42  ImpropAct10               int64  \n",
            " 43  ImpropAct11               int64  \n",
            " 44  ImpropAct12               int64  \n",
            " 45  ImpropAct13               int64  \n",
            " 46  ImpropAct14               int64  \n",
            " 47  ImpropAct15               int64  \n",
            " 48  ImpropAct16               int64  \n",
            " 49  ImpropAct17               int64  \n",
            " 50  ImpropAct18               int64  \n",
            " 51  ImpropAct19               int64  \n",
            " 52  ImpropAct20               int64  \n",
            " 53  ImpropAct21               int64  \n",
            " 54  ImpropAct22               int64  \n",
            " 55  ImpropAct23               int64  \n",
            " 56  ImpropAct24               int64  \n",
            " 57  ImpropAct25               int64  \n",
            " 58  ImpropAct26               int64  \n",
            " 59  ImpropAct27               int64  \n",
            " 60  ImpropAct28               int64  \n",
            " 61  ImpropAct29               int64  \n",
            " 62  ImpropAct30               int64  \n",
            " 63  ImpropAct31               int64  \n",
            " 64  ImpropAct32               int64  \n",
            " 65  ImpropAct33               int64  \n",
            " 66  ImpropAct34               int64  \n",
            " 67  ImpropAct35               int64  \n",
            " 68  ImpropAct36               int64  \n",
            " 69  ImpropAct37               int64  \n",
            " 70  ImpropAct38               int64  \n",
            " 71  ImpropAct39               int64  \n",
            " 72  ImpropAct40               int64  \n",
            " 73  ImpropAct41               int64  \n",
            " 74  ImpropAct42               int64  \n",
            " 75  ImpropAct43               int64  \n",
            " 76  Vehicle_Type_1            int64  \n",
            " 77  Vehicle_Type_2            int64  \n",
            " 78  Vehicle_Type_3            int64  \n",
            " 79  Vehicle_Type_4            int64  \n",
            " 80  Vehicle_Type_5            int64  \n",
            " 81  Vehicle_Type_6            int64  \n",
            " 82  Vehicle_Type_7            int64  \n",
            " 83  Vehicle_Type_8            int64  \n",
            " 84  Vehicle_Type_9            int64  \n",
            " 85  Vehicle_Type_10           int64  \n",
            " 86  Vehicle_Type_11           int64  \n",
            " 87  Vehicle_Type_12           int64  \n",
            " 88  Vehicle_Type_13           int64  \n",
            " 89  Vehicle_Type_14           int64  \n",
            " 90  Vehicle_Type_15           int64  \n",
            " 91  Vehicle_Type_16           int64  \n",
            " 92  Vehicle_Type_17           int64  \n",
            " 93  Vehicle_Type_18           int64  \n",
            " 94  Vehicle_Type_19           int64  \n",
            " 95  Vehicle_Type_20           int64  \n",
            " 96  Vehicle_Type_21           int64  \n",
            " 97  Vehicle_Type_22           int64  \n",
            " 98  Vehicle_Type_23           int64  \n",
            " 99  Vehicle_Type_24           int64  \n",
            " 100 Vehicle_Type_25           int64  \n",
            " 101 SEVERITY                  object \n",
            "dtypes: float64(13), int64(80), object(9)\n",
            "memory usage: 121.8+ MB\n"
          ],
          "name": "stdout"
        }
      ]
    },
    {
      "cell_type": "code",
      "metadata": {
        "id": "u2LriS2oVS_1",
        "colab": {
          "base_uri": "https://localhost:8080/",
          "height": 33
        },
        "outputId": "07fb4940-13d3-43e1-be70-f4e68597b7d8"
      },
      "source": [
        "crash_df_subset.shape"
      ],
      "execution_count": null,
      "outputs": [
        {
          "output_type": "execute_result",
          "data": {
            "text/plain": [
              "(155019, 102)"
            ]
          },
          "metadata": {
            "tags": []
          },
          "execution_count": 53
        }
      ]
    },
    {
      "cell_type": "markdown",
      "metadata": {
        "id": "hpyxKZvWYBA0"
      },
      "source": [
        "Take away fatal_crashes feature to use as label"
      ]
    },
    {
      "cell_type": "code",
      "metadata": {
        "id": "JbuJLXxnYFP_"
      },
      "source": [
        "label = crash_df_subset['SEVERITY']"
      ],
      "execution_count": null,
      "outputs": []
    },
    {
      "cell_type": "markdown",
      "metadata": {
        "id": "LqyItX_Sd8e3"
      },
      "source": [
        "Numerical"
      ]
    },
    {
      "cell_type": "code",
      "metadata": {
        "id": "-LTcvNOBexYz",
        "colab": {
          "base_uri": "https://localhost:8080/",
          "height": 1000
        },
        "outputId": "3a70d6e6-0df8-4ecf-8836-9db64be3061c"
      },
      "source": [
        "crash_num = crash_df_subset.drop([\"Collision_Type\",\"FAC\", \"First_Harmful_Event\", \"FUN\", \"Light_Condition\", \"Roadway_Alignment\", \"Roadway_Surface_Cond\", \"SEVERITY\", \"Weather_Condition\"], axis=1)\n",
        "crash_num.info(verbose='true')"
      ],
      "execution_count": null,
      "outputs": [
        {
          "output_type": "stream",
          "text": [
            "<class 'pandas.core.frame.DataFrame'>\n",
            "Int64Index: 155019 entries, 758908 to 14714\n",
            "Data columns (total 93 columns):\n",
            " #   Column                    Non-Null Count   Dtype  \n",
            "---  ------                    --------------   -----  \n",
            " 0   Alcohol_Notalcohol        155019 non-null  float64\n",
            " 1   Belted_Unbelted           155019 non-null  float64\n",
            " 2   Bike_Nonbike              155019 non-null  float64\n",
            " 3   Carspeedlimit             155019 non-null  float64\n",
            " 4   Crash_Military_Tm         155019 non-null  int64  \n",
            " 5   Deer_Nodeer               155019 non-null  float64\n",
            " 6   Distracted_Notdistracted  155019 non-null  float64\n",
            " 7   Hitrun_Not_Hitrun         155019 non-null  float64\n",
            " 8   LATITUDE                  155019 non-null  float64\n",
            " 9   LONGITUDE                 155019 non-null  float64\n",
            " 10  Motor_Nonmotor            155019 non-null  float64\n",
            " 11  Passage                   155019 non-null  float64\n",
            " 12  Pdo_Crash                 155019 non-null  int64  \n",
            " 13  Pedage                    155019 non-null  float64\n",
            " 14  School_Zone               155019 non-null  int64  \n",
            " 15  Speed_Notspeed            155019 non-null  float64\n",
            " 16  Work_Zone_Related         155019 non-null  int64  \n",
            " 17  drAge_young               155019 non-null  int64  \n",
            " 18  drAge_midyoung            155019 non-null  int64  \n",
            " 19  drAge_mid                 155019 non-null  int64  \n",
            " 20  drAge_midold              155019 non-null  int64  \n",
            " 21  drAge_old                 155019 non-null  int64  \n",
            " 22  malesInvolved             155019 non-null  int64  \n",
            " 23  femalesInvolved           155019 non-null  int64  \n",
            " 24  notProvidedInvolved       155019 non-null  int64  \n",
            " 25  ImpropAct1                155019 non-null  int64  \n",
            " 26  ImpropAct2                155019 non-null  int64  \n",
            " 27  ImpropAct3                155019 non-null  int64  \n",
            " 28  ImpropAct4                155019 non-null  int64  \n",
            " 29  ImpropAct5                155019 non-null  int64  \n",
            " 30  ImpropAct6                155019 non-null  int64  \n",
            " 31  ImpropAct7                155019 non-null  int64  \n",
            " 32  ImpropAct8                155019 non-null  int64  \n",
            " 33  ImpropAct9                155019 non-null  int64  \n",
            " 34  ImpropAct10               155019 non-null  int64  \n",
            " 35  ImpropAct11               155019 non-null  int64  \n",
            " 36  ImpropAct12               155019 non-null  int64  \n",
            " 37  ImpropAct13               155019 non-null  int64  \n",
            " 38  ImpropAct14               155019 non-null  int64  \n",
            " 39  ImpropAct15               155019 non-null  int64  \n",
            " 40  ImpropAct16               155019 non-null  int64  \n",
            " 41  ImpropAct17               155019 non-null  int64  \n",
            " 42  ImpropAct18               155019 non-null  int64  \n",
            " 43  ImpropAct19               155019 non-null  int64  \n",
            " 44  ImpropAct20               155019 non-null  int64  \n",
            " 45  ImpropAct21               155019 non-null  int64  \n",
            " 46  ImpropAct22               155019 non-null  int64  \n",
            " 47  ImpropAct23               155019 non-null  int64  \n",
            " 48  ImpropAct24               155019 non-null  int64  \n",
            " 49  ImpropAct25               155019 non-null  int64  \n",
            " 50  ImpropAct26               155019 non-null  int64  \n",
            " 51  ImpropAct27               155019 non-null  int64  \n",
            " 52  ImpropAct28               155019 non-null  int64  \n",
            " 53  ImpropAct29               155019 non-null  int64  \n",
            " 54  ImpropAct30               155019 non-null  int64  \n",
            " 55  ImpropAct31               155019 non-null  int64  \n",
            " 56  ImpropAct32               155019 non-null  int64  \n",
            " 57  ImpropAct33               155019 non-null  int64  \n",
            " 58  ImpropAct34               155019 non-null  int64  \n",
            " 59  ImpropAct35               155019 non-null  int64  \n",
            " 60  ImpropAct36               155019 non-null  int64  \n",
            " 61  ImpropAct37               155019 non-null  int64  \n",
            " 62  ImpropAct38               155019 non-null  int64  \n",
            " 63  ImpropAct39               155019 non-null  int64  \n",
            " 64  ImpropAct40               155019 non-null  int64  \n",
            " 65  ImpropAct41               155019 non-null  int64  \n",
            " 66  ImpropAct42               155019 non-null  int64  \n",
            " 67  ImpropAct43               155019 non-null  int64  \n",
            " 68  Vehicle_Type_1            155019 non-null  int64  \n",
            " 69  Vehicle_Type_2            155019 non-null  int64  \n",
            " 70  Vehicle_Type_3            155019 non-null  int64  \n",
            " 71  Vehicle_Type_4            155019 non-null  int64  \n",
            " 72  Vehicle_Type_5            155019 non-null  int64  \n",
            " 73  Vehicle_Type_6            155019 non-null  int64  \n",
            " 74  Vehicle_Type_7            155019 non-null  int64  \n",
            " 75  Vehicle_Type_8            155019 non-null  int64  \n",
            " 76  Vehicle_Type_9            155019 non-null  int64  \n",
            " 77  Vehicle_Type_10           155019 non-null  int64  \n",
            " 78  Vehicle_Type_11           155019 non-null  int64  \n",
            " 79  Vehicle_Type_12           155019 non-null  int64  \n",
            " 80  Vehicle_Type_13           155019 non-null  int64  \n",
            " 81  Vehicle_Type_14           155019 non-null  int64  \n",
            " 82  Vehicle_Type_15           155019 non-null  int64  \n",
            " 83  Vehicle_Type_16           155019 non-null  int64  \n",
            " 84  Vehicle_Type_17           155019 non-null  int64  \n",
            " 85  Vehicle_Type_18           155019 non-null  int64  \n",
            " 86  Vehicle_Type_19           155019 non-null  int64  \n",
            " 87  Vehicle_Type_20           155019 non-null  int64  \n",
            " 88  Vehicle_Type_21           155019 non-null  int64  \n",
            " 89  Vehicle_Type_22           155019 non-null  int64  \n",
            " 90  Vehicle_Type_23           155019 non-null  int64  \n",
            " 91  Vehicle_Type_24           155019 non-null  int64  \n",
            " 92  Vehicle_Type_25           155019 non-null  int64  \n",
            "dtypes: float64(13), int64(80)\n",
            "memory usage: 111.2 MB\n"
          ],
          "name": "stdout"
        }
      ]
    },
    {
      "cell_type": "markdown",
      "metadata": {
        "id": "QfzZOPuQeIRW"
      },
      "source": [
        "Categorical"
      ]
    },
    {
      "cell_type": "code",
      "metadata": {
        "id": "jp_yo7SneJIr",
        "colab": {
          "base_uri": "https://localhost:8080/",
          "height": 266
        },
        "outputId": "6ef4700e-6670-42ae-ad67-24349e603820"
      },
      "source": [
        "#Categorical features\n",
        "crash_cat = crash_df_subset[[\"Collision_Type\",\"FAC\", \"First_Harmful_Event\", \"FUN\", \"Light_Condition\", \"Roadway_Alignment\", \"Roadway_Surface_Cond\", \"Weather_Condition\"]]\n",
        "crash_cat.info()"
      ],
      "execution_count": null,
      "outputs": [
        {
          "output_type": "stream",
          "text": [
            "<class 'pandas.core.frame.DataFrame'>\n",
            "Int64Index: 155019 entries, 758908 to 14714\n",
            "Data columns (total 8 columns):\n",
            " #   Column                Non-Null Count   Dtype \n",
            "---  ------                --------------   ----- \n",
            " 0   Collision_Type        155019 non-null  object\n",
            " 1   FAC                   155019 non-null  object\n",
            " 2   First_Harmful_Event   155019 non-null  object\n",
            " 3   FUN                   155019 non-null  object\n",
            " 4   Light_Condition       155019 non-null  object\n",
            " 5   Roadway_Alignment     155019 non-null  object\n",
            " 6   Roadway_Surface_Cond  155019 non-null  object\n",
            " 7   Weather_Condition     155019 non-null  object\n",
            "dtypes: object(8)\n",
            "memory usage: 10.6+ MB\n"
          ],
          "name": "stdout"
        }
      ]
    },
    {
      "cell_type": "markdown",
      "metadata": {
        "id": "Fd20ZMIPeQSS"
      },
      "source": [
        "Create pipeline"
      ]
    },
    {
      "cell_type": "code",
      "metadata": {
        "id": "_9CWUlIceQjk"
      },
      "source": [
        "#imports\n",
        "from sklearn.preprocessing import OneHotEncoder\n",
        "from sklearn.pipeline import Pipeline\n",
        "from sklearn.preprocessing import StandardScaler\n",
        "\n",
        "#Numerical pipeline\n",
        "num_pipeline = Pipeline([\n",
        "        ('std_scaler', StandardScaler()),\n",
        "    ])\n",
        "\n",
        "#Categorical encoder\n",
        "cat_encoder = OneHotEncoder(sparse=False)"
      ],
      "execution_count": null,
      "outputs": []
    },
    {
      "cell_type": "code",
      "metadata": {
        "id": "oSpjK9ereW1t"
      },
      "source": [
        "from sklearn.compose import ColumnTransformer\n",
        "\n",
        "num_attribs = list(crash_num) \n",
        "cat_attribs = list(crash_cat)\n",
        "\n",
        "full_pipeline = ColumnTransformer([\n",
        "        (\"num\", num_pipeline, num_attribs),\n",
        "        (\"cat\", OneHotEncoder(), cat_attribs),\n",
        "    ])"
      ],
      "execution_count": null,
      "outputs": []
    },
    {
      "cell_type": "code",
      "metadata": {
        "id": "Z7j03fHeec7H",
        "colab": {
          "base_uri": "https://localhost:8080/",
          "height": 233
        },
        "outputId": "0b55b0d0-a983-4b4c-8dba-cb47b5302436"
      },
      "source": [
        "crash_prepared = full_pipeline.fit_transform(crash_df_subset)\n",
        "crash_prepared"
      ],
      "execution_count": null,
      "outputs": [
        {
          "output_type": "execute_result",
          "data": {
            "text/plain": [
              "array([[ 4.06621476, -0.19827962, -0.06662151, ...,  0.        ,\n",
              "         0.        ,  0.        ],\n",
              "       [-0.24592897, -0.19827962, -0.06662151, ...,  0.        ,\n",
              "         0.        ,  0.        ],\n",
              "       [-0.24592897, -0.19827962, -0.06662151, ...,  0.        ,\n",
              "         0.        ,  0.        ],\n",
              "       ...,\n",
              "       [-0.24592897, -0.19827962, -0.06662151, ...,  0.        ,\n",
              "         0.        ,  0.        ],\n",
              "       [-0.24592897, -0.19827962, -0.06662151, ...,  0.        ,\n",
              "         0.        ,  0.        ],\n",
              "       [-0.24592897, -0.19827962, -0.06662151, ...,  0.        ,\n",
              "         0.        ,  0.        ]])"
            ]
          },
          "metadata": {
            "tags": []
          },
          "execution_count": 59
        }
      ]
    },
    {
      "cell_type": "markdown",
      "metadata": {
        "id": "T5aDk1HyRu7c"
      },
      "source": [
        "Split into the train and test set"
      ]
    },
    {
      "cell_type": "code",
      "metadata": {
        "id": "8v-bXGNdhldJ"
      },
      "source": [
        "from sklearn.model_selection import train_test_split\n",
        "X_train, X_test, y_train, y_test = train_test_split(crash_prepared, label, random_state=42)"
      ],
      "execution_count": null,
      "outputs": []
    },
    {
      "cell_type": "code",
      "metadata": {
        "id": "_AQYSVNPm9rO",
        "colab": {
          "base_uri": "https://localhost:8080/",
          "height": 83
        },
        "outputId": "7a47c1f6-e3a1-4ae3-d122-db073304f022"
      },
      "source": [
        "print(type(X_train))\n",
        "print(X_train.shape)\n",
        "print(X_test.shape)\n",
        "print(y_train.shape)"
      ],
      "execution_count": null,
      "outputs": [
        {
          "output_type": "stream",
          "text": [
            "<class 'numpy.ndarray'>\n",
            "(116264, 178)\n",
            "(38755, 178)\n",
            "(116264,)\n"
          ],
          "name": "stdout"
        }
      ]
    },
    {
      "cell_type": "markdown",
      "metadata": {
        "id": "9V-AqJf6cWIx"
      },
      "source": [
        "TA Layne reccomended to only train on 100k at first so I'm going to do another train test split"
      ]
    },
    {
      "cell_type": "code",
      "metadata": {
        "id": "GLlWmDggcVSP"
      },
      "source": [
        "from sklearn.linear_model import Lasso, LogisticRegression\n",
        "from sklearn.feature_selection import SelectFromModel\n",
        "sel_ = SelectFromModel(LogisticRegression(C=1, penalty='l1', solver='liblinear'))\n",
        "sel_.fit(X_train, y_train)\n",
        "sel_.get_support()"
      ],
      "execution_count": null,
      "outputs": []
    },
    {
      "cell_type": "markdown",
      "metadata": {
        "id": "ciB4hXP37KhH"
      },
      "source": [
        "Logistic regression with lasso regularization"
      ]
    },
    {
      "cell_type": "markdown",
      "metadata": {
        "id": "7q3jbPOWH6GH"
      },
      "source": [
        "This was the output of the lasso, but I didn't want to run it again because it took a while so i copied the output here"
      ]
    },
    {
      "cell_type": "code",
      "metadata": {
        "id": "MpWKr6HFjMsw"
      },
      "source": [
        "features = [  True,  True,  True,  True,  True,  True,  True,  True,  True,\n",
        "        True,  True,  True,  True,  True,  True,  True,  True,  True,\n",
        "        True,  True,  True,  True,  True,  True,  True,  True,  True,\n",
        "        True,  True,  True,  True,  True,  True,  True,  True,  True,\n",
        "        True,  True,  True,  True,  True,  True,  True,  True,  True,\n",
        "        True,  True,  True,  True,  True,  True,  True,  True,  True,\n",
        "        True,  True,  True,  True,  True,  True,  True,  True,  True,\n",
        "        True,  True,  True,  True,  True,  True,  True,  True,  True,\n",
        "       False, False,  True,  True,  True,  True,  True,  True,  True,\n",
        "        True,  True,  True, False,  True,  True, False,  True,  True,\n",
        "        True, False,  True,  True, False,  True,  True,  True, False,\n",
        "        True,  True,  True,  True,  True,  True,  True, False,  True,\n",
        "        True,  True,  True,  True,  True,  True,  True, False, False,\n",
        "        True,  True,  True,  True,  True,  True,  True,  True,  True,\n",
        "        True,  True,  True,  True,  True,  True,  True,  True,  True,\n",
        "        True,  True,  True,  True,  True,  True,  True,  True,  True,\n",
        "        True,  True,  True,  True,  True,  True,  True,  True,  True,\n",
        "       False,  True,  True,  True,  True,  True,  True,  True,  True,\n",
        "        True,  True,  True, False, False,  True,  True, False,  True,\n",
        "        True,  True,  True,  True, False, False, False]"
      ],
      "execution_count": null,
      "outputs": []
    },
    {
      "cell_type": "code",
      "metadata": {
        "id": "-7qA2l4zpglw",
        "colab": {
          "base_uri": "https://localhost:8080/",
          "height": 33
        },
        "outputId": "be32b384-5ad2-4a3e-90b1-13fdcc56ee5c"
      },
      "source": [
        "len(features)"
      ],
      "execution_count": null,
      "outputs": [
        {
          "output_type": "execute_result",
          "data": {
            "text/plain": [
              "178"
            ]
          },
          "metadata": {
            "tags": []
          },
          "execution_count": 64
        }
      ]
    },
    {
      "cell_type": "code",
      "metadata": {
        "id": "92ibulydpisI",
        "colab": {
          "base_uri": "https://localhost:8080/",
          "height": 33
        },
        "outputId": "9872ff0b-5d57-445f-d941-9e7fa9e6b565"
      },
      "source": [
        "len(feature_labels_one_hot)"
      ],
      "execution_count": null,
      "outputs": [
        {
          "output_type": "execute_result",
          "data": {
            "text/plain": [
              "180"
            ]
          },
          "metadata": {
            "tags": []
          },
          "execution_count": 65
        }
      ]
    },
    {
      "cell_type": "code",
      "metadata": {
        "id": "bNetf9ICdFQR"
      },
      "source": [
        "\n",
        "X_train_mat = pd.DataFrame(X_train)"
      ],
      "execution_count": null,
      "outputs": []
    },
    {
      "cell_type": "code",
      "metadata": {
        "id": "yky1hxsWgZod",
        "colab": {
          "base_uri": "https://localhost:8080/",
          "height": 33
        },
        "outputId": "298a3125-5e77-42c8-87fb-073420395b73"
      },
      "source": [
        "sum(features) #401 trues"
      ],
      "execution_count": null,
      "outputs": [
        {
          "output_type": "execute_result",
          "data": {
            "text/plain": [
              "161"
            ]
          },
          "metadata": {
            "tags": []
          },
          "execution_count": 67
        }
      ]
    },
    {
      "cell_type": "code",
      "metadata": {
        "id": "h6MTJGTPeOgU"
      },
      "source": [
        "selected_feat_train = X_train_mat.columns[features]"
      ],
      "execution_count": null,
      "outputs": []
    },
    {
      "cell_type": "code",
      "metadata": {
        "id": "XIRPQJjQgU44",
        "colab": {
          "base_uri": "https://localhost:8080/",
          "height": 83
        },
        "outputId": "a37396fa-f20f-44a0-ae88-dfa55cc1893d"
      },
      "source": [
        "selected_feat_train #matrix with 401 columns"
      ],
      "execution_count": null,
      "outputs": [
        {
          "output_type": "execute_result",
          "data": {
            "text/plain": [
              "Int64Index([  0,   1,   2,   3,   4,   5,   6,   7,   8,   9,\n",
              "            ...\n",
              "            162, 163, 164, 167, 168, 170, 171, 172, 173, 174],\n",
              "           dtype='int64', length=161)"
            ]
          },
          "metadata": {
            "tags": []
          },
          "execution_count": 69
        }
      ]
    },
    {
      "cell_type": "code",
      "metadata": {
        "id": "2ON8U-68gqee"
      },
      "source": [
        "X_test_mat = pd.DataFrame(X_test)\n",
        "selected_feat_test = X_test_mat.columns[features]"
      ],
      "execution_count": null,
      "outputs": []
    },
    {
      "cell_type": "code",
      "metadata": {
        "id": "B1Dd6IFzg5ix",
        "colab": {
          "base_uri": "https://localhost:8080/",
          "height": 83
        },
        "outputId": "a8be1f0d-041d-4bef-cd69-b07473527de7"
      },
      "source": [
        "selected_feat_test"
      ],
      "execution_count": null,
      "outputs": [
        {
          "output_type": "execute_result",
          "data": {
            "text/plain": [
              "Int64Index([  0,   1,   2,   3,   4,   5,   6,   7,   8,   9,\n",
              "            ...\n",
              "            162, 163, 164, 167, 168, 170, 171, 172, 173, 174],\n",
              "           dtype='int64', length=161)"
            ]
          },
          "metadata": {
            "tags": []
          },
          "execution_count": 72
        }
      ]
    },
    {
      "cell_type": "code",
      "metadata": {
        "id": "hGsUMEhhhg7h"
      },
      "source": [
        "from sklearn.svm import SVC\n",
        "svm = SVC(decision_function_shape='ovr', kernel = 'rbf')"
      ],
      "execution_count": null,
      "outputs": []
    },
    {
      "cell_type": "markdown",
      "metadata": {
        "id": "dAf95Q4tTiNq"
      },
      "source": [
        "Tune hyperparameters\n"
      ]
    },
    {
      "cell_type": "code",
      "metadata": {
        "id": "mUqgcWSs9_gK",
        "colab": {
          "base_uri": "https://localhost:8080/",
          "height": 83
        },
        "outputId": "bce5dc92-c279-453b-a204-2e3bb338bff5"
      },
      "source": [
        "#Evaluate\n",
        "from sklearn.metrics import mean_squared_error\n",
        "import numpy as np\n",
        "svm.fit(X_train, y_train)"
      ],
      "execution_count": null,
      "outputs": [
        {
          "output_type": "execute_result",
          "data": {
            "text/plain": [
              "SVC(C=1.0, break_ties=False, cache_size=200, class_weight=None, coef0=0.0,\n",
              "    decision_function_shape='ovr', degree=3, gamma='scale', kernel='rbf',\n",
              "    max_iter=-1, probability=False, random_state=None, shrinking=True,\n",
              "    tol=0.001, verbose=False)"
            ]
          },
          "metadata": {
            "tags": []
          },
          "execution_count": 71
        }
      ]
    },
    {
      "cell_type": "code",
      "metadata": {
        "id": "eVeu5ISUJaMx"
      },
      "source": [
        "import pickle\n",
        "from sklearn.externals import joblib \n",
        "from google.colab import files"
      ],
      "execution_count": null,
      "outputs": []
    },
    {
      "cell_type": "code",
      "metadata": {
        "id": "xekVmgKXIpGP",
        "colab": {
          "base_uri": "https://localhost:8080/",
          "height": 281
        },
        "outputId": "53130eb5-a5e7-4335-a94e-9f501b4e7503"
      },
      "source": [
        "\n",
        "  \n",
        "# Save the model as a pickle in a file \n",
        "joblib.dump(svm, 'trainedModel.pkl') \n",
        "\n",
        "files.download('trainedModel.pkl')"
      ],
      "execution_count": null,
      "outputs": [
        {
          "output_type": "stream",
          "text": [
            "/usr/local/lib/python3.6/dist-packages/sklearn/externals/joblib/__init__.py:15: FutureWarning: sklearn.externals.joblib is deprecated in 0.21 and will be removed in 0.23. Please import this functionality directly from joblib, which can be installed with: pip install joblib. If this warning is raised when loading pickled models, you may need to re-serialize those models with scikit-learn 0.21+.\n",
            "  warnings.warn(msg, category=FutureWarning)\n"
          ],
          "name": "stderr"
        },
        {
          "output_type": "error",
          "ename": "NameError",
          "evalue": "ignored",
          "traceback": [
            "\u001b[0;31m---------------------------------------------------------------------------\u001b[0m",
            "\u001b[0;31mNameError\u001b[0m                                 Traceback (most recent call last)",
            "\u001b[0;32m<ipython-input-73-d186cf748399>\u001b[0m in \u001b[0;36m<module>\u001b[0;34m()\u001b[0m\n\u001b[1;32m      4\u001b[0m \u001b[0;34m\u001b[0m\u001b[0m\n\u001b[1;32m      5\u001b[0m \u001b[0;31m# Save the model as a pickle in a file\u001b[0m\u001b[0;34m\u001b[0m\u001b[0;34m\u001b[0m\u001b[0;34m\u001b[0m\u001b[0m\n\u001b[0;32m----> 6\u001b[0;31m \u001b[0mjoblib\u001b[0m\u001b[0;34m.\u001b[0m\u001b[0mdump\u001b[0m\u001b[0;34m(\u001b[0m\u001b[0msvm\u001b[0m\u001b[0;34m,\u001b[0m \u001b[0;34m'trainedModel.pkl'\u001b[0m\u001b[0;34m)\u001b[0m\u001b[0;34m\u001b[0m\u001b[0;34m\u001b[0m\u001b[0m\n\u001b[0m\u001b[1;32m      7\u001b[0m \u001b[0;34m\u001b[0m\u001b[0m\n\u001b[1;32m      8\u001b[0m \u001b[0mfiles\u001b[0m\u001b[0;34m.\u001b[0m\u001b[0mdownload\u001b[0m\u001b[0;34m(\u001b[0m\u001b[0;34m'trainedModel.pkl'\u001b[0m\u001b[0;34m)\u001b[0m\u001b[0;34m\u001b[0m\u001b[0;34m\u001b[0m\u001b[0m\n",
            "\u001b[0;31mNameError\u001b[0m: name 'svm' is not defined"
          ]
        }
      ]
    },
    {
      "cell_type": "markdown",
      "metadata": {
        "id": "NQSd_BrzTd4B"
      },
      "source": [
        "SVM FIT"
      ]
    },
    {
      "cell_type": "code",
      "metadata": {
        "id": "dNMKTdFhb1gw"
      },
      "source": [
        "from sklearn.metrics import classification_report "
      ],
      "execution_count": null,
      "outputs": []
    },
    {
      "cell_type": "code",
      "metadata": {
        "id": "wEwWCiFxGUcH"
      },
      "source": [
        "DATA_PATH = \"/content/drive/My Drive/data/\"\n",
        "infile = open(DATA_PATH+'trainedModel.pkl')\n",
        "savedModel = joblib.load('trainedModel.pkl')  "
      ],
      "execution_count": null,
      "outputs": []
    },
    {
      "cell_type": "code",
      "metadata": {
        "id": "JN9pvb-bNZyM",
        "colab": {
          "base_uri": "https://localhost:8080/",
          "height": 83
        },
        "outputId": "b67eb90e-5d11-44dc-9ea5-ad915a539d76"
      },
      "source": [
        "savedModel"
      ],
      "execution_count": null,
      "outputs": [
        {
          "output_type": "execute_result",
          "data": {
            "text/plain": [
              "SVC(C=1.0, break_ties=False, cache_size=200, class_weight=None, coef0=0.0,\n",
              "    decision_function_shape='ovr', degree=3, gamma='scale', kernel='rbf',\n",
              "    max_iter=-1, probability=False, random_state=None, shrinking=True,\n",
              "    tol=0.001, verbose=False)"
            ]
          },
          "metadata": {
            "tags": []
          },
          "execution_count": 81
        }
      ]
    },
    {
      "cell_type": "code",
      "metadata": {
        "id": "WEJFWlycRC6I"
      },
      "source": [
        "y_pred = savedModel.predict(X_train)"
      ],
      "execution_count": null,
      "outputs": []
    },
    {
      "cell_type": "code",
      "metadata": {
        "id": "QzLdCSSWPt7X"
      },
      "source": [
        "target_names = ['MILD','MEDIUM', 'SEVERE']"
      ],
      "execution_count": null,
      "outputs": []
    },
    {
      "cell_type": "code",
      "metadata": {
        "id": "yk3cWi9ASwDT",
        "colab": {
          "base_uri": "https://localhost:8080/",
          "height": 183
        },
        "outputId": "e67d57b8-1f41-4cf0-f3ab-27314fda873f"
      },
      "source": [
        "print(classification_report(y_train, y_pred, target_names=target_names))"
      ],
      "execution_count": null,
      "outputs": [
        {
          "output_type": "stream",
          "text": [
            "              precision    recall  f1-score   support\n",
            "\n",
            "        MILD       0.86      0.98      0.92     33976\n",
            "      MEDIUM       1.00      1.00      1.00     75571\n",
            "      SEVERE       0.68      0.22      0.33      6717\n",
            "\n",
            "    accuracy                           0.95    116264\n",
            "   macro avg       0.85      0.73      0.75    116264\n",
            "weighted avg       0.94      0.95      0.94    116264\n",
            "\n"
          ],
          "name": "stdout"
        }
      ]
    },
    {
      "cell_type": "code",
      "metadata": {
        "id": "un9RRpZ2RWB2"
      },
      "source": [
        "#now try with the test set"
      ],
      "execution_count": null,
      "outputs": []
    },
    {
      "cell_type": "code",
      "metadata": {
        "id": "q3X0fOVyRYso"
      },
      "source": [
        "y_testPred = savedModel.predict(X_test)"
      ],
      "execution_count": null,
      "outputs": []
    },
    {
      "cell_type": "code",
      "metadata": {
        "id": "cnn1JTG6RhvB",
        "colab": {
          "base_uri": "https://localhost:8080/",
          "height": 183
        },
        "outputId": "cc4f5800-688d-498e-c054-2a7276a81aba"
      },
      "source": [
        "print(classification_report(y_test, y_testPred, target_names=target_names))"
      ],
      "execution_count": null,
      "outputs": [
        {
          "output_type": "stream",
          "text": [
            "              precision    recall  f1-score   support\n",
            "\n",
            "        MILD       0.86      0.97      0.91     11382\n",
            "      MEDIUM       1.00      1.00      1.00     25114\n",
            "      SEVERE       0.60      0.18      0.27      2259\n",
            "\n",
            "    accuracy                           0.94     38755\n",
            "   macro avg       0.82      0.72      0.73     38755\n",
            "weighted avg       0.93      0.94      0.93     38755\n",
            "\n"
          ],
          "name": "stdout"
        }
      ]
    },
    {
      "cell_type": "markdown",
      "metadata": {
        "id": "feftSFaHbULL"
      },
      "source": [
        "Get support vectors and dual coefficients for analyisis in the report on feature importance"
      ]
    },
    {
      "cell_type": "code",
      "metadata": {
        "id": "LItTC5DxbOJX",
        "colab": {
          "base_uri": "https://localhost:8080/",
          "height": 233
        },
        "outputId": "5f426b23-a956-4d6a-9e23-5dd4a22b8248"
      },
      "source": [
        "print(savedModel.support_vectors_)"
      ],
      "execution_count": null,
      "outputs": [
        {
          "output_type": "stream",
          "text": [
            "[[-0.24592897 -0.19827962 -0.06662151 ...  0.          0.\n",
            "   0.        ]\n",
            " [-0.24592897 -0.19827962 -0.06662151 ...  0.          0.\n",
            "   0.        ]\n",
            " [-0.24592897 -0.19827962 -0.06662151 ...  0.          0.\n",
            "   0.        ]\n",
            " ...\n",
            " [-0.24592897 -0.19827962 -0.06662151 ...  0.          0.\n",
            "   0.        ]\n",
            " [-0.24592897 -0.19827962 -0.06662151 ...  0.          0.\n",
            "   0.        ]\n",
            " [-0.24592897 -0.19827962 -0.06662151 ...  0.          0.\n",
            "   0.        ]]\n"
          ],
          "name": "stdout"
        }
      ]
    },
    {
      "cell_type": "code",
      "metadata": {
        "id": "7s9KvmM7aWgl",
        "colab": {
          "base_uri": "https://localhost:8080/",
          "height": 33
        },
        "outputId": "cb4136f5-aae2-4318-a1fe-59d35c418b9d"
      },
      "source": [
        "len(savedModel.support_vectors_[0])"
      ],
      "execution_count": null,
      "outputs": [
        {
          "output_type": "execute_result",
          "data": {
            "text/plain": [
              "178"
            ]
          },
          "metadata": {
            "tags": []
          },
          "execution_count": 95
        }
      ]
    },
    {
      "cell_type": "code",
      "metadata": {
        "id": "M7GhRvTJa8Be",
        "colab": {
          "base_uri": "https://localhost:8080/",
          "height": 233
        },
        "outputId": "06ebdb87-714f-4263-d4d1-8d1ec248cd70"
      },
      "source": [
        "print(savedModel.support_vectors_)"
      ],
      "execution_count": null,
      "outputs": [
        {
          "output_type": "stream",
          "text": [
            "[[-0.24592897 -0.19827962 -0.06662151 ...  0.          0.\n",
            "   0.        ]\n",
            " [-0.24592897 -0.19827962 -0.06662151 ...  0.          0.\n",
            "   0.        ]\n",
            " [-0.24592897 -0.19827962 -0.06662151 ...  0.          0.\n",
            "   0.        ]\n",
            " ...\n",
            " [-0.24592897 -0.19827962 -0.06662151 ...  0.          0.\n",
            "   0.        ]\n",
            " [-0.24592897 -0.19827962 -0.06662151 ...  0.          0.\n",
            "   0.        ]\n",
            " [-0.24592897 -0.19827962 -0.06662151 ...  0.          0.\n",
            "   0.        ]]\n"
          ],
          "name": "stdout"
        }
      ]
    },
    {
      "cell_type": "code",
      "metadata": {
        "id": "6yX2vG1cauPS",
        "colab": {
          "base_uri": "https://localhost:8080/",
          "height": 83
        },
        "outputId": "876c5ac5-adde-46f5-a87c-7bb968727618"
      },
      "source": [
        "savedModel.dual_coef_"
      ],
      "execution_count": null,
      "outputs": [
        {
          "output_type": "execute_result",
          "data": {
            "text/plain": [
              "array([[ 0.        ,  0.        ,  0.        , ..., -1.        ,\n",
              "        -1.        , -1.        ],\n",
              "       [ 1.        ,  0.66709561,  0.06710058, ..., -0.        ,\n",
              "        -0.11331734, -0.        ]])"
            ]
          },
          "metadata": {
            "tags": []
          },
          "execution_count": 93
        }
      ]
    },
    {
      "cell_type": "markdown",
      "metadata": {
        "id": "98bu9bA6GVJ8"
      },
      "source": [
        "Run a bunch for hyperparameter tuning"
      ]
    },
    {
      "cell_type": "code",
      "metadata": {
        "id": "M6vlqKNTTfT4"
      },
      "source": [
        "from sklearn.model_selection import GridSearchCV \n",
        "# defining parameter range \n",
        "param_grid = {'C': [0.1, 1],  \n",
        "              'gamma': [1, 0.1], \n",
        "              'kernel': ['rbf']}  \n",
        "  \n",
        "grid = GridSearchCV(SVC(), param_grid, refit = True, verbose = 3) "
      ],
      "execution_count": null,
      "outputs": []
    },
    {
      "cell_type": "code",
      "metadata": {
        "id": "ep3dgMIM2ucZ"
      },
      "source": [
        "grid.fit(X_train,y_train)"
      ],
      "execution_count": null,
      "outputs": []
    },
    {
      "cell_type": "code",
      "metadata": {
        "id": "ToN9fKhgSPSZ"
      },
      "source": [
        "svm_grid_best = grid.best_estimator_"
      ],
      "execution_count": null,
      "outputs": []
    },
    {
      "cell_type": "code",
      "metadata": {
        "id": "KMCxjzxvSNRw"
      },
      "source": [
        "# Save the model as a pickle in a file \n",
        "joblib.dump(svm_grid_best, 'trainedModeGrid.pkl') \n",
        "\n",
        "files.download('trainedModelGrid.pkl')"
      ],
      "execution_count": null,
      "outputs": []
    },
    {
      "cell_type": "code",
      "metadata": {
        "id": "8ZjfqwxcC3X-"
      },
      "source": [
        "\n",
        "files.download('trainedModelGrid.pkl')"
      ],
      "execution_count": null,
      "outputs": []
    }
  ]
}